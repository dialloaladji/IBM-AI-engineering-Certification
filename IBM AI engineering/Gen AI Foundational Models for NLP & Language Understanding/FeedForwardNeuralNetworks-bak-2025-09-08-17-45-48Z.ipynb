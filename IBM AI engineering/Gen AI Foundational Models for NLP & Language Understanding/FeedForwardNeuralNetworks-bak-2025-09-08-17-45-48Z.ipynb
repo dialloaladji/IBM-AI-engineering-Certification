{
 "cells": [
  {
   "cell_type": "markdown",
   "metadata": {},
   "source": [
    "<p style=\"text-align:center\">\n",
    "    <a href=\"https://skills.network\" target=\"_blank\">\n",
    "    <img src=\"https://cf-courses-data.s3.us.cloud-object-storage.appdomain.cloud/assets/logos/SN_web_lightmode.png\" width=\"200\" alt=\"Skills Network Logo\">\n",
    "    </a>\n",
    "</p>\n"
   ]
  },
  {
   "cell_type": "markdown",
   "metadata": {},
   "source": [
    "# **Building and Training a Feedforward Neural Network for Language Modeling**\n",
    "\n",
    "Estimated time needed: **60** minutes\n",
    "\n",
    "This project explores the use of Feedforward Neural Networks (FNNs) in language modeling. The primary objective is to build a neural network that learns word relationships and generates meaningful text sequences. The implementation is done using PyTorch, covering key aspects of Natural Language Processing (NLP), such as:\n",
    "* Tokenization & Indexing: Converting text into numerical representations.\n",
    "* Embedding Layers: Mapping words to dense vector representations for efficient learning.\n",
    "* Context-Target Pair Generation (N-grams): Structuring training data for sequence prediction.\n",
    "* Multi-Class Neural Network: Designing a model to predict the next word in a sequence.\n",
    "\n",
    "The training process includes optimizing the model with loss functions and backpropagation techniques to improve accuracy and coherence in text generation. By the end of the project, you will have a working FNN-based language model capable of generating text sequences.\n",
    "<div style=\"text-align:center;\">\n",
    "    <img src=\"https://cf-courses-data.s3.us.cloud-object-storage.appdomain.cloud/IBM-GPXX0WSVEN/song%20%281%29.png\" alt=\"Image Description\">\n",
    "</div>\n"
   ]
  },
  {
   "cell_type": "markdown",
   "metadata": {},
   "source": [
    "# __Table of Contents__\n",
    "\n",
    "<ol>\n",
    "    <li><a href=\"#Objectives\">Objectives</a></li>\n",
    "    <li>\n",
    "        <a href=\"#Setup\">Setup</a>\n",
    "        <ol>\n",
    "            <li><a href=\"#Installing-required-libraries\">Installing required libraries</a></li>\n",
    "            <li><a href=\"#Importing-required-libraries\">Importing required libraries</a></li>\n",
    "            <li><a href=\"#Defining-helper-functions\">Defining helper functions</a></li>\n",
    "        </ol>\n",
    "    </li>\n",
    "    <li>\n",
    "       <a href=\"#Feedforward-Neural-Networks-(FNNs)-for-language-models\">Feedforward Neural Networks (FNNs) for language models</a></li>\n",
    "        <ol>\n",
    "            <li><a href=\"#Tokenization-for-FNN\">Tokenization for FNN</a></li>\n",
    "            <li><a href=\"#Indexing\">Indexing</a></li>\n",
    "            <li><a href=\"#Embedding-layers\">Embedding layers</a></li>\n",
    "        </ol>\n",
    "</li>\n",
    "    <li><a href=\"#Generating-context-target-pairs-(n-grams)\">Generating context-target pairs (n-grams)</a></li>\n",
    "    <ol>\n",
    "        <li><a href=\"#Batch-function\">Batch function</a></li>\n",
    "        <li><a href=\"#Multi-class-neural-network\">Multi-class neural network</a></li>\n",
    "    </ol>\n",
    "    <li><a href=\"#Training\">Training</a></li>\n",
    "    </li>\n",
    "    <li><a href=\"#Exercises\">Exercises</a></li>\n",
    "    </li>\n",
    "</ol>\n"
   ]
  },
  {
   "cell_type": "markdown",
   "metadata": {},
   "source": [
    "---\n"
   ]
  },
  {
   "cell_type": "markdown",
   "metadata": {},
   "source": [
    "# Objectives\n",
    "\n",
    "After completing this lab, you will be able to:\n",
    "\n",
    " - Implement a feedforward neural network using the PyTorch framework, including embedding layers, for language modeling tasks.\n",
    " - Fine-tune the output layer of the neural network for optimal performance in text generation.\n",
    " - Apply various training strategies and fundamental Natural Language Processing (NLP) techniques, such as tokenization and sequence analysis, to improve text generation.\n"
   ]
  },
  {
   "cell_type": "markdown",
   "metadata": {},
   "source": [
    "---\n"
   ]
  },
  {
   "cell_type": "markdown",
   "metadata": {},
   "source": [
    "# Setup\n"
   ]
  },
  {
   "cell_type": "markdown",
   "metadata": {},
   "source": [
    "For this lab, you will use the following libraries:\n",
    "\n",
    "*   [`pandas`](https://pandas.pydata.org/?utm_medium=Exinfluencer&utm_source=Exinfluencer&utm_content=000026UJ&utm_term=10006555&utm_id=NA-SkillsNetwork-Channel-SkillsNetworkCoursesIBMML0187ENSkillsNetwork31430127-2021-01-01) for managing the data.\n",
    "*   [`numpy`](https://numpy.org/?utm_medium=Exinfluencer&utm_source=Exinfluencer&utm_content=000026UJ&utm_term=10006555&utm_id=NA-SkillsNetwork-Channel-SkillsNetworkCoursesIBMML0187ENSkillsNetwork31430127-2021-01-01) for mathematical operations.\n",
    "*   [`sklearn`](https://scikit-learn.org/stable/?utm_medium=Exinfluencer&utm_source=Exinfluencer&utm_content=000026UJ&utm_term=10006555&utm_id=NA-SkillsNetwork-Channel-SkillsNetworkCoursesIBMML0187ENSkillsNetwork31430127-2021-01-01) for machine learning and machine-learning-pipeline related functions.\n",
    "*   [`seaborn`](https://seaborn.pydata.org/?utm_medium=Exinfluencer&utm_source=Exinfluencer&utm_content=000026UJ&utm_term=10006555&utm_id=NA-SkillsNetwork-Channel-SkillsNetworkCoursesIBMML0187ENSkillsNetwork31430127-2021-01-01) for visualizing the data.\n",
    "*   [`matplotlib`](https://matplotlib.org/?utm_medium=Exinfluencer&utm_source=Exinfluencer&utm_content=000026UJ&utm_term=10006555&utm_id=NA-SkillsNetwork-Channel-SkillsNetworkCoursesIBMML0187ENSkillsNetwork31430127-2021-01-01) for additional plotting tools.\n"
   ]
  },
  {
   "cell_type": "markdown",
   "metadata": {},
   "source": [
    "### Installing required libraries\n",
    "\n",
    "All the required libraries are pre-installed in the Skills Network Labs environment. However, if you run this notebook commands in a different Jupyter environment (e.g. Watson Studio or Ananconda), you will need to install these libraries using the code cell below.\n",
    "\n",
    "<h2 style=\"color:red;\">After installing the libraries below please RESTART THE KERNEL and run all cells.</h2>\n"
   ]
  },
  {
   "cell_type": "code",
   "execution_count": 1,
   "metadata": {},
   "outputs": [],
   "source": [
    "%%capture\n",
    "!pip install nltk\n",
    "!pip install scikit-learn\n",
    "!pip install torch==2.6.0\n",
    "!pip install torchtext==0.17.2\n",
    "!pip install matplotlib\n",
    "!pip install pandas\n",
    "!pip install numpy==1.26.4"
   ]
  },
  {
   "cell_type": "markdown",
   "metadata": {},
   "source": [
    "__Note__: The following required libraries are __not__ pre-installed in the Skills Network Labs environment. __You will need to run the following cell__ to install them:\n"
   ]
  },
  {
   "cell_type": "markdown",
   "metadata": {},
   "source": [
    "### Importing required libraries\n",
    "\n",
    "_It is recommended that you import all required libraries in one place (here):_\n"
   ]
  },
  {
   "cell_type": "code",
   "execution_count": 2,
   "metadata": {},
   "outputs": [],
   "source": [
    "%%capture\n",
    "import warnings\n",
    "from tqdm import tqdm\n",
    "\n",
    "warnings.simplefilter('ignore')\n",
    "import time\n",
    "from collections import OrderedDict\n",
    "\n",
    "import re\n",
    "\n",
    "import numpy as np\n",
    "import matplotlib.pyplot as plt\n",
    "import pandas as pd\n",
    "import random\n",
    "\n",
    "import nltk\n",
    "nltk.download('punkt')\n",
    "nltk.download('punkt_tab')\n",
    "\n",
    "import torch\n",
    "import torch.nn as nn\n",
    "import torch.nn.functional as F\n",
    "import torch.optim as optim\n",
    "import string\n",
    "import time\n",
    "from torchtext.data.utils import get_tokenizer\n",
    "from torchtext.vocab import build_vocab_from_iterator\n",
    "from nltk.tokenize import word_tokenize\n",
    "\n",
    "import matplotlib.pyplot as plt\n",
    "from sklearn.manifold import TSNE\n",
    "\n",
    "# You can also use this section to suppress warnings generated by your code:\n",
    "def warn(*args, **kwargs):\n",
    "    pass\n",
    "import warnings\n",
    "warnings.warn = warn\n",
    "%capture"
   ]
  },
  {
   "cell_type": "markdown",
   "metadata": {},
   "source": [
    "---\n"
   ]
  },
  {
   "cell_type": "markdown",
   "metadata": {},
   "source": [
    "## Feedforward Neural Networks (FNNs) for language models\n",
    "\n",
    "FNNs, or Multi-Layer Perceptrons, serve as the foundational components for comprehending neural networks in natural language processing (NLP). In NLP tasks, FNNs process textual data by transforming it into numerical vectors known as embeddings. Subsequently, these embeddings are input to the network to predict language facets, such as the upcoming word in a sentence or the sentiment of a text.\n",
    "\n",
    "Let's consider the following song lyrics for our analysis.\n"
   ]
  },
  {
   "cell_type": "code",
   "execution_count": 3,
   "metadata": {},
   "outputs": [],
   "source": [
    "song= \"\"\"We are no strangers to love\n",
    "You know the rules and so do I\n",
    "A full commitments what Im thinking of\n",
    "You wouldnt get this from any other guy\n",
    "I just wanna tell you how Im feeling\n",
    "Gotta make you understand\n",
    "Never gonna give you up\n",
    "Never gonna let you down\n",
    "Never gonna run around and desert you\n",
    "Never gonna make you cry\n",
    "Never gonna say goodbye\n",
    "Never gonna tell a lie and hurt you\n",
    "Weve known each other for so long\n",
    "Your hearts been aching but youre too shy to say it\n",
    "Inside we both know whats been going on\n",
    "We know the game and were gonna play it\n",
    "And if you ask me how Im feeling\n",
    "Dont tell me youre too blind to see\n",
    "Never gonna give you up\n",
    "Never gonna let you down\n",
    "Never gonna run around and desert you\n",
    "Never gonna make you cry\n",
    "Never gonna say goodbye\n",
    "Never gonna tell a lie and hurt you\n",
    "Never gonna give you up\n",
    "Never gonna let you down\n",
    "Never gonna run around and desert you\n",
    "Never gonna make you cry\n",
    "Never gonna say goodbye\n",
    "Never gonna tell a lie and hurt you\n",
    "Weve known each other for so long\n",
    "Your hearts been aching but youre too shy to say it\n",
    "Inside we both know whats been going on\n",
    "We know the game and were gonna play it\n",
    "I just wanna tell you how Im feeling\n",
    "Gotta make you understand\n",
    "Never gonna give you up\n",
    "Never gonna let you down\n",
    "Never gonna run around and desert you\n",
    "Never gonna make you cry\n",
    "Never gonna say goodbye\n",
    "Never gonna tell a lie and hurt you\n",
    "Never gonna give you up\n",
    "Never gonna let you down\n",
    "Never gonna run around and desert you\n",
    "Never gonna make you cry\n",
    "Never gonna say goodbye\n",
    "Never gonna tell a lie and hurt you\n",
    "Never gonna give you up\n",
    "Never gonna let you down\n",
    "Never gonna run around and desert you\n",
    "Never gonna make you cry\n",
    "Never gonna say goodbye\n",
    "Never gonna tell a lie and hurt you\"\"\""
   ]
  },
  {
   "cell_type": "markdown",
   "metadata": {},
   "source": [
    " ### Tokenization for FNN\n"
   ]
  },
  {
   "cell_type": "markdown",
   "metadata": {},
   "source": [
    " This PyTorch function is used to obtain a tokenizer for text.\n"
   ]
  },
  {
   "cell_type": "code",
   "execution_count": 4,
   "metadata": {},
   "outputs": [],
   "source": [
    "tokenizer = get_tokenizer(\"basic_english\")\n",
    "tokens=tokenizer(song)"
   ]
  },
  {
   "cell_type": "code",
   "execution_count": 5,
   "metadata": {},
   "outputs": [],
   "source": [
    "def preprocess_string(s):\n",
    "    \"\"\"\n",
    "    Preprocesses a given string by performing the following steps:\n",
    "    \n",
    "    1. Removes all non-word characters (excluding letters and numbers).\n",
    "    2. Removes all whitespace characters.\n",
    "    3. Removes all numeric digits.\n",
    "\n",
    "    Parameters:\n",
    "    s (str): The input string to be cleaned.\n",
    "\n",
    "    Returns:\n",
    "    str: The processed string with only alphabetic characters, no spaces, and no digits.\n",
    "    \"\"\"\n",
    "\n",
    "    # Remove all non-word characters (everything except letters and numbers)\n",
    "    # \\w matches any word character (letters, numbers, and underscores)\n",
    "    # \\s matches any whitespace characters\n",
    "    # ^ inside [] negates the selection, so [^\\w\\s] matches anything that's NOT a word character or whitespace.\n",
    "    s = re.sub(r\"[^\\w\\s]\", '', s)\n",
    "\n",
    "    # Remove all whitespace characters (spaces, tabs, newlines)\n",
    "    # \\s+ matches one or more whitespace characters.\n",
    "    s = re.sub(r\"\\s+\", '', s)\n",
    "\n",
    "    # Remove all digits (0-9)\n",
    "    # \\d matches any digit character.\n",
    "    s = re.sub(r\"\\d\", '', s)\n",
    "\n",
    "    return s"
   ]
  },
  {
   "cell_type": "code",
   "execution_count": 6,
   "metadata": {},
   "outputs": [],
   "source": [
    "def preprocess(words):\n",
    "    \"\"\"\n",
    "    Preprocesses a given text by tokenizing it, cleaning individual words, and \n",
    "    converting them to lowercase while removing empty or punctuation tokens.\n",
    "\n",
    "    Steps:\n",
    "    1. Tokenization: Splits the input text into individual word tokens.\n",
    "    2. Cleaning: Applies `preprocess_string()` to remove non-word characters, \n",
    "       spaces, and digits from each token.\n",
    "    3. Normalization: Converts all tokens to lowercase.\n",
    "    4. Filtering: Removes empty strings and punctuation tokens.\n",
    "\n",
    "    Parameters:\n",
    "    words (str): The input text to be tokenized and preprocessed.\n",
    "\n",
    "    Returns:\n",
    "    list: A list of cleaned, lowercase tokens.\n",
    "    \"\"\"\n",
    "\n",
    "    # Tokenize the input text into words\n",
    "    tokens = word_tokenize(words)\n",
    "\n",
    "    # Apply preprocessing to each token (removes unwanted characters)\n",
    "    tokens = [preprocess_string(w) for w in tokens]\n",
    "\n",
    "    # Convert tokens to lowercase and remove empty strings or punctuation\n",
    "    return [w.lower() for w in tokens if len(w) != 0 and w not in string.punctuation]\n",
    "\n",
    "# Example usage:\n",
    "tokens = preprocess(song)  # Preprocess the text in 'song'"
   ]
  },
  {
   "cell_type": "markdown",
   "metadata": {},
   "source": [
    "### Indexing\n",
    "\n",
    "TorchText provides tools to tokenize text into individual words (tokens) and build a vocabulary, which maps tokens to unique integer indexes. This is a crucial step in preparing text data for  machine learning models that require numerical input.\n"
   ]
  },
  {
   "cell_type": "code",
   "execution_count": 7,
   "metadata": {
    "scrolled": true
   },
   "outputs": [
    {
     "data": {
      "text/plain": [
       "['we',\n",
       " 'are',\n",
       " 'no',\n",
       " 'strangers',\n",
       " 'to',\n",
       " 'love',\n",
       " 'you',\n",
       " 'know',\n",
       " 'the',\n",
       " 'rules',\n",
       " 'and',\n",
       " 'so',\n",
       " 'do',\n",
       " 'i',\n",
       " 'a',\n",
       " 'full',\n",
       " 'commitments',\n",
       " 'what',\n",
       " 'im',\n",
       " 'thinking',\n",
       " 'of',\n",
       " 'you',\n",
       " 'wouldnt',\n",
       " 'get',\n",
       " 'this',\n",
       " 'from',\n",
       " 'any',\n",
       " 'other',\n",
       " 'guy',\n",
       " 'i',\n",
       " 'just',\n",
       " 'wan',\n",
       " 'na',\n",
       " 'tell',\n",
       " 'you',\n",
       " 'how',\n",
       " 'im',\n",
       " 'feeling',\n",
       " 'got',\n",
       " 'ta',\n",
       " 'make',\n",
       " 'you',\n",
       " 'understand',\n",
       " 'never',\n",
       " 'gon',\n",
       " 'na',\n",
       " 'give',\n",
       " 'you',\n",
       " 'up',\n",
       " 'never',\n",
       " 'gon',\n",
       " 'na',\n",
       " 'let',\n",
       " 'you',\n",
       " 'down',\n",
       " 'never',\n",
       " 'gon',\n",
       " 'na',\n",
       " 'run',\n",
       " 'around',\n",
       " 'and',\n",
       " 'desert',\n",
       " 'you',\n",
       " 'never',\n",
       " 'gon',\n",
       " 'na',\n",
       " 'make',\n",
       " 'you',\n",
       " 'cry',\n",
       " 'never',\n",
       " 'gon',\n",
       " 'na',\n",
       " 'say',\n",
       " 'goodbye',\n",
       " 'never',\n",
       " 'gon',\n",
       " 'na',\n",
       " 'tell',\n",
       " 'a',\n",
       " 'lie',\n",
       " 'and',\n",
       " 'hurt',\n",
       " 'you',\n",
       " 'weve',\n",
       " 'known',\n",
       " 'each',\n",
       " 'other',\n",
       " 'for',\n",
       " 'so',\n",
       " 'long',\n",
       " 'your',\n",
       " 'hearts',\n",
       " 'been',\n",
       " 'aching',\n",
       " 'but',\n",
       " 'youre',\n",
       " 'too',\n",
       " 'shy',\n",
       " 'to',\n",
       " 'say',\n",
       " 'it',\n",
       " 'inside',\n",
       " 'we',\n",
       " 'both',\n",
       " 'know',\n",
       " 'whats',\n",
       " 'been',\n",
       " 'going',\n",
       " 'on',\n",
       " 'we',\n",
       " 'know',\n",
       " 'the',\n",
       " 'game',\n",
       " 'and',\n",
       " 'were',\n",
       " 'gon',\n",
       " 'na',\n",
       " 'play',\n",
       " 'it',\n",
       " 'and',\n",
       " 'if',\n",
       " 'you',\n",
       " 'ask',\n",
       " 'me',\n",
       " 'how',\n",
       " 'im',\n",
       " 'feeling',\n",
       " 'dont',\n",
       " 'tell',\n",
       " 'me',\n",
       " 'youre',\n",
       " 'too',\n",
       " 'blind',\n",
       " 'to',\n",
       " 'see',\n",
       " 'never',\n",
       " 'gon',\n",
       " 'na',\n",
       " 'give',\n",
       " 'you',\n",
       " 'up',\n",
       " 'never',\n",
       " 'gon',\n",
       " 'na',\n",
       " 'let',\n",
       " 'you',\n",
       " 'down',\n",
       " 'never',\n",
       " 'gon',\n",
       " 'na',\n",
       " 'run',\n",
       " 'around',\n",
       " 'and',\n",
       " 'desert',\n",
       " 'you',\n",
       " 'never',\n",
       " 'gon',\n",
       " 'na',\n",
       " 'make',\n",
       " 'you',\n",
       " 'cry',\n",
       " 'never',\n",
       " 'gon',\n",
       " 'na',\n",
       " 'say',\n",
       " 'goodbye',\n",
       " 'never',\n",
       " 'gon',\n",
       " 'na',\n",
       " 'tell',\n",
       " 'a',\n",
       " 'lie',\n",
       " 'and',\n",
       " 'hurt',\n",
       " 'you',\n",
       " 'never',\n",
       " 'gon',\n",
       " 'na',\n",
       " 'give',\n",
       " 'you',\n",
       " 'up',\n",
       " 'never',\n",
       " 'gon',\n",
       " 'na',\n",
       " 'let',\n",
       " 'you',\n",
       " 'down',\n",
       " 'never',\n",
       " 'gon',\n",
       " 'na',\n",
       " 'run',\n",
       " 'around',\n",
       " 'and',\n",
       " 'desert',\n",
       " 'you',\n",
       " 'never',\n",
       " 'gon',\n",
       " 'na',\n",
       " 'make',\n",
       " 'you',\n",
       " 'cry',\n",
       " 'never',\n",
       " 'gon',\n",
       " 'na',\n",
       " 'say',\n",
       " 'goodbye',\n",
       " 'never',\n",
       " 'gon',\n",
       " 'na',\n",
       " 'tell',\n",
       " 'a',\n",
       " 'lie',\n",
       " 'and',\n",
       " 'hurt',\n",
       " 'you',\n",
       " 'weve',\n",
       " 'known',\n",
       " 'each',\n",
       " 'other',\n",
       " 'for',\n",
       " 'so',\n",
       " 'long',\n",
       " 'your',\n",
       " 'hearts',\n",
       " 'been',\n",
       " 'aching',\n",
       " 'but',\n",
       " 'youre',\n",
       " 'too',\n",
       " 'shy',\n",
       " 'to',\n",
       " 'say',\n",
       " 'it',\n",
       " 'inside',\n",
       " 'we',\n",
       " 'both',\n",
       " 'know',\n",
       " 'whats',\n",
       " 'been',\n",
       " 'going',\n",
       " 'on',\n",
       " 'we',\n",
       " 'know',\n",
       " 'the',\n",
       " 'game',\n",
       " 'and',\n",
       " 'were',\n",
       " 'gon',\n",
       " 'na',\n",
       " 'play',\n",
       " 'it',\n",
       " 'i',\n",
       " 'just',\n",
       " 'wan',\n",
       " 'na',\n",
       " 'tell',\n",
       " 'you',\n",
       " 'how',\n",
       " 'im',\n",
       " 'feeling',\n",
       " 'got',\n",
       " 'ta',\n",
       " 'make',\n",
       " 'you',\n",
       " 'understand',\n",
       " 'never',\n",
       " 'gon',\n",
       " 'na',\n",
       " 'give',\n",
       " 'you',\n",
       " 'up',\n",
       " 'never',\n",
       " 'gon',\n",
       " 'na',\n",
       " 'let',\n",
       " 'you',\n",
       " 'down',\n",
       " 'never',\n",
       " 'gon',\n",
       " 'na',\n",
       " 'run',\n",
       " 'around',\n",
       " 'and',\n",
       " 'desert',\n",
       " 'you',\n",
       " 'never',\n",
       " 'gon',\n",
       " 'na',\n",
       " 'make',\n",
       " 'you',\n",
       " 'cry',\n",
       " 'never',\n",
       " 'gon',\n",
       " 'na',\n",
       " 'say',\n",
       " 'goodbye',\n",
       " 'never',\n",
       " 'gon',\n",
       " 'na',\n",
       " 'tell',\n",
       " 'a',\n",
       " 'lie',\n",
       " 'and',\n",
       " 'hurt',\n",
       " 'you',\n",
       " 'never',\n",
       " 'gon',\n",
       " 'na',\n",
       " 'give',\n",
       " 'you',\n",
       " 'up',\n",
       " 'never',\n",
       " 'gon',\n",
       " 'na',\n",
       " 'let',\n",
       " 'you',\n",
       " 'down',\n",
       " 'never',\n",
       " 'gon',\n",
       " 'na',\n",
       " 'run',\n",
       " 'around',\n",
       " 'and',\n",
       " 'desert',\n",
       " 'you',\n",
       " 'never',\n",
       " 'gon',\n",
       " 'na',\n",
       " 'make',\n",
       " 'you',\n",
       " 'cry',\n",
       " 'never',\n",
       " 'gon',\n",
       " 'na',\n",
       " 'say',\n",
       " 'goodbye',\n",
       " 'never',\n",
       " 'gon',\n",
       " 'na',\n",
       " 'tell',\n",
       " 'a',\n",
       " 'lie',\n",
       " 'and',\n",
       " 'hurt',\n",
       " 'you',\n",
       " 'never',\n",
       " 'gon',\n",
       " 'na',\n",
       " 'give',\n",
       " 'you',\n",
       " 'up',\n",
       " 'never',\n",
       " 'gon',\n",
       " 'na',\n",
       " 'let',\n",
       " 'you',\n",
       " 'down',\n",
       " 'never',\n",
       " 'gon',\n",
       " 'na',\n",
       " 'run',\n",
       " 'around',\n",
       " 'and',\n",
       " 'desert',\n",
       " 'you',\n",
       " 'never',\n",
       " 'gon',\n",
       " 'na',\n",
       " 'make',\n",
       " 'you',\n",
       " 'cry',\n",
       " 'never',\n",
       " 'gon',\n",
       " 'na',\n",
       " 'say',\n",
       " 'goodbye',\n",
       " 'never',\n",
       " 'gon',\n",
       " 'na',\n",
       " 'tell',\n",
       " 'a',\n",
       " 'lie',\n",
       " 'and',\n",
       " 'hurt',\n",
       " 'you']"
      ]
     },
     "execution_count": 7,
     "metadata": {},
     "output_type": "execute_result"
    }
   ],
   "source": [
    "tokens"
   ]
  },
  {
   "cell_type": "code",
   "execution_count": 8,
   "metadata": {},
   "outputs": [],
   "source": [
    "def tokenizetext(song):\n",
    "    \"\"\"\n",
    "    Tokenizes the input text (song) and builds a vocabulary from the tokens.\n",
    "\n",
    "    Steps:\n",
    "    1. Tokenization: The function splits the input text into words and applies \n",
    "       a tokenizer function to each word.\n",
    "    2. Vocabulary Building: Constructs a vocabulary from the tokenized words,\n",
    "       including a special \"<unk>\" token to handle out-of-vocabulary words.\n",
    "    3. Default Indexing: Sets the default index for unknown words, ensuring \n",
    "       that any unseen tokens are mapped to \"<unk>\".\n",
    "\n",
    "    Parameters:\n",
    "    song (str): The input text (song lyrics) to be tokenized and processed.\n",
    "\n",
    "    Returns:\n",
    "    vocab (Vocab): A vocabulary object mapping tokens to their corresponding indices.\n",
    "    \"\"\"\n",
    "\n",
    "    # Tokenize the text\n",
    "    # Split the input text into words and apply the tokenizer function to each word.\n",
    "    # The 'map' function ensures that each word is tokenized properly.\n",
    "    tokenized_song = map(tokenizer, song.split())\n",
    "\n",
    "    # Build vocabulary from tokenized text\n",
    "    # The function `build_vocab_from_iterator` constructs a vocabulary by iterating \n",
    "    # over the tokenized words. The special token \"<unk>\" is added to handle words \n",
    "    # that are not present in the vocabulary.\n",
    "    vocab = build_vocab_from_iterator(tokenized_song, specials=[\"<unk>\"])\n",
    "\n",
    "    # Set the default index for unknown words\n",
    "    # The default index is set to the index of \"<unk>\" so that any word not found \n",
    "    # in the vocabulary is mapped to this token, preventing errors during lookup.\n",
    "    vocab.set_default_index(vocab[\"<unk>\"])\n",
    "\n",
    "    return vocab"
   ]
  },
  {
   "cell_type": "markdown",
   "metadata": {},
   "source": [
    "Convert the tokens to indices by applying the function as shown here:\n"
   ]
  },
  {
   "cell_type": "code",
   "execution_count": 35,
   "metadata": {},
   "outputs": [
    {
     "data": {
      "text/plain": [
       "[21, 58, 70, 74, 25, 69, 2, 20, 31, 72]"
      ]
     },
     "execution_count": 35,
     "metadata": {},
     "output_type": "execute_result"
    }
   ],
   "source": [
    "vocab=tokenizetext(song)\n",
    "vocab(tokens[0:10])"
   ]
  },
  {
   "cell_type": "code",
   "execution_count": 36,
   "metadata": {},
   "outputs": [
    {
     "data": {
      "text/plain": [
       "79"
      ]
     },
     "execution_count": 36,
     "metadata": {},
     "output_type": "execute_result"
    }
   ],
   "source": [
    "len(vocab)"
   ]
  },
  {
   "cell_type": "code",
   "execution_count": 11,
   "metadata": {},
   "outputs": [
    {
     "data": {
      "text/plain": [
       "[21, 58, 70, 74, 25, 69, 2, 20, 31, 72]"
      ]
     },
     "execution_count": 11,
     "metadata": {},
     "output_type": "execute_result"
    }
   ],
   "source": [
    "text_pipeline = lambda x: vocab(tokenizer(x))\n",
    "text_pipeline(song)[0:10]"
   ]
  },
  {
   "cell_type": "markdown",
   "metadata": {},
   "source": [
    "\n",
    "Find the word corresponding to an index using the```get_itos()```method. The result is a list where the index of the list corresponds to a word.\n"
   ]
  },
  {
   "cell_type": "code",
   "execution_count": 12,
   "metadata": {},
   "outputs": [
    {
     "data": {
      "text/plain": [
       "'are'"
      ]
     },
     "execution_count": 12,
     "metadata": {},
     "output_type": "execute_result"
    }
   ],
   "source": [
    "index_to_token = vocab.get_itos()\n",
    "index_to_token[58]"
   ]
  },
  {
   "cell_type": "markdown",
   "metadata": {},
   "source": [
    "## Embedding layers\n",
    "\n",
    "An embedding layer is a crucial element in natural language processing (NLP) and neural networks designed for sequential data. It serves to convert categorical variables, like words or discrete indexes representing tokens, into continuous vectors. This transformation facilitates training and enables the network to learn meaningful relationships among words.\n",
    "\n",
    "Let's consider a simple example involving a vocabulary of words \n",
    "- **Vocabulary**: {apple, banana, orange, pear}\n",
    "\n",
    "Each word in your vocabulary has a unique index assigned to it: \n",
    "- **Indices**: {0, 1, 2, 3}\n",
    "\n",
    "When using an embedding layer, you will initialize random continuous vectors for each index. For instance, the embedding vectors might look like:\n",
    "\n",
    "- Vector for index 0 (apple): [0.2, 0.8]\n",
    "- Vector for index 1 (banana): [0.6, -0.5]\n",
    "- Vector for index 2 (orange): [-0.3, 0.7]\n",
    "- Vector for index 3 (pear): [0.1, 0.4]\n",
    "In PyTorch, you can create an embedding layer.\n"
   ]
  },
  {
   "cell_type": "code",
   "execution_count": 13,
   "metadata": {},
   "outputs": [],
   "source": [
    "def genembedding(vocab):\n",
    "    \"\"\"\n",
    "    Generates an embedding layer for the given vocabulary.\n",
    "\n",
    "    The embedding layer transforms words into dense vector representations, \n",
    "    allowing the model to learn semantic relationships between words.\n",
    "\n",
    "    Parameters:\n",
    "    vocab (Vocab): The vocabulary object containing unique words and their indices.\n",
    "\n",
    "    Returns:\n",
    "    nn.Embedding: A PyTorch embedding layer with a specified embedding dimension.\n",
    "    \"\"\"\n",
    "\n",
    "    # Define the embedding dimension (size of word vectors)\n",
    "    embedding_dim = 20  # Each word will be represented as a 20-dimensional vector\n",
    "\n",
    "    # Get the vocabulary size (number of unique words in the vocabulary)\n",
    "    vocab_size = len(vocab)\n",
    "\n",
    "    # Create an embedding layer\n",
    "    # The nn.Embedding module maps word indices to dense vector representations.\n",
    "    # It takes vocab_size as the number of words and embedding_dim as the vector size.\n",
    "    embeddings = nn.Embedding(vocab_size, embedding_dim)\n",
    "\n",
    "    return embeddings"
   ]
  },
  {
   "cell_type": "markdown",
   "metadata": {},
   "source": [
    "\n",
    "**Embeddings**: Obtain the embedding for the first word with index 0 or 1. Don't forget that you have to convert the input into a tensor. The embeddings are initially initialized randomly, but as the model undergoes training, words with similar meanings gradually come to cluster closer together\n"
   ]
  },
  {
   "cell_type": "code",
   "execution_count": 14,
   "metadata": {},
   "outputs": [
    {
     "name": "stdout",
     "output_type": "stream",
     "text": [
      "word <unk>\n",
      "index 0\n",
      "embedding tensor([-0.9663, -0.0215, -1.9144, -0.7279,  1.1326,  2.0778, -0.3115,  1.6870,\n",
      "         1.0432, -0.7076, -0.2681, -1.1587, -0.3403, -1.0100,  0.8173, -1.3704,\n",
      "        -0.1080, -0.0118,  0.7292, -1.5474], grad_fn=<EmbeddingBackward0>)\n",
      "embedding shape torch.Size([20])\n",
      "word gonna\n",
      "index 1\n",
      "embedding tensor([-1.2042, -1.2698, -1.7384,  0.2137,  0.1794,  0.4133, -0.3941,  1.1667,\n",
      "        -0.7418,  0.7893,  0.7849, -0.8875, -0.0906, -0.0710,  0.6209,  0.7444,\n",
      "        -0.5066, -1.1593,  0.2180, -0.1106], grad_fn=<EmbeddingBackward0>)\n",
      "embedding shape torch.Size([20])\n"
     ]
    }
   ],
   "source": [
    "embeddings=genembedding(vocab)\n",
    "for n in range(2): \n",
    "    embedding=embeddings(torch.tensor(n))\n",
    "    print(\"word\",index_to_token[n])\n",
    "    print(\"index\",n)\n",
    "    print( \"embedding\", embedding)\n",
    "    print(\"embedding shape\", embedding.shape)"
   ]
  },
  {
   "cell_type": "markdown",
   "metadata": {},
   "source": [
    "These vectors will serve as inputs for the next layer.\n"
   ]
  },
  {
   "cell_type": "markdown",
   "metadata": {},
   "source": [
    "### Generating context-target pairs (n-grams)\n",
    "\n",
    "Organize words within a variable-size context using the following approach: Each word is denoted by 'i'. \n",
    "To establish the context, simply subtract 'j'. The size of the context is determined by the value of``CONTEXT_SIZE``.\n"
   ]
  },
  {
   "cell_type": "code",
   "execution_count": 15,
   "metadata": {},
   "outputs": [],
   "source": [
    "# Define the context size for generating n-grams\n",
    "CONTEXT_SIZE = 2  # The number of previous words used to predict the next word\n",
    "\n",
    "def genngrams(tokens):\n",
    "    \"\"\"\n",
    "    Generates n-grams from a list of tokens, where each n-gram consists of a \n",
    "    context (previous words) and a target (next word).\n",
    "\n",
    "    The function constructs a list of tuples where:\n",
    "    - The first element is a list of `CONTEXT_SIZE` previous words.\n",
    "    - The second element is the target word that follows the context.\n",
    "\n",
    "    Parameters:\n",
    "    tokens (list): A list of preprocessed word tokens.\n",
    "\n",
    "    Returns:\n",
    "    list: A list of tuples representing n-grams.\n",
    "          Each tuple contains (context_words, target_word).\n",
    "    \"\"\"\n",
    "\n",
    "    # Generate n-grams\n",
    "    # Iterate through the tokens starting from index CONTEXT_SIZE to the end\n",
    "    # For each token at position 'i', extract the previous CONTEXT_SIZE words as context\n",
    "    ngrams = [\n",
    "        (\n",
    "            [tokens[i - j - 1] for j in range(CONTEXT_SIZE)],  # Context words (previous words)\n",
    "            tokens[i]  # Target word (the word to predict)\n",
    "        )\n",
    "        for i in range(CONTEXT_SIZE, len(tokens))\n",
    "    ]\n",
    "\n",
    "    return ngrams"
   ]
  },
  {
   "cell_type": "markdown",
   "metadata": {},
   "source": [
    "Output the first element, which results in a tuple. The initial element represents the context, and the index indicates the following word.\n"
   ]
  },
  {
   "cell_type": "code",
   "execution_count": 16,
   "metadata": {},
   "outputs": [
    {
     "name": "stdout",
     "output_type": "stream",
     "text": [
      "context ['are', 'we'] target no\n",
      "context index [58, 21] target index [70]\n"
     ]
    }
   ],
   "source": [
    "ngrams=genngrams(tokens)\n",
    "context, target=ngrams[0]\n",
    "print(\"context\",context,\"target\",target)\n",
    "print(\"context index\",vocab(context),\"target index\",vocab([target]))"
   ]
  },
  {
   "cell_type": "code",
   "execution_count": 17,
   "metadata": {},
   "outputs": [
    {
     "data": {
      "text/plain": [
       "[(['are', 'we'], 'no'),\n",
       " (['no', 'are'], 'strangers'),\n",
       " (['strangers', 'no'], 'to'),\n",
       " (['to', 'strangers'], 'love'),\n",
       " (['love', 'to'], 'you'),\n",
       " (['you', 'love'], 'know'),\n",
       " (['know', 'you'], 'the'),\n",
       " (['the', 'know'], 'rules'),\n",
       " (['rules', 'the'], 'and'),\n",
       " (['and', 'rules'], 'so')]"
      ]
     },
     "execution_count": 17,
     "metadata": {},
     "output_type": "execute_result"
    }
   ],
   "source": [
    "ngrams[:10]"
   ]
  },
  {
   "cell_type": "markdown",
   "metadata": {},
   "source": [
    "In this context, there are multiple words. Aggregate the embeddings of each of these words and then adjust the input size of the subsequent layer accordingly. Then, create the next layer.\n"
   ]
  },
  {
   "cell_type": "code",
   "execution_count": 18,
   "metadata": {},
   "outputs": [],
   "source": [
    "embedding_dim=20\n",
    "linear = nn.Linear(embedding_dim*CONTEXT_SIZE,128)"
   ]
  },
  {
   "cell_type": "markdown",
   "metadata": {},
   "source": [
    "\n",
    "You have the two embeddings.\n"
   ]
  },
  {
   "cell_type": "code",
   "execution_count": 19,
   "metadata": {},
   "outputs": [
    {
     "data": {
      "text/plain": [
       "torch.Size([2, 20])"
      ]
     },
     "execution_count": 19,
     "metadata": {},
     "output_type": "execute_result"
    }
   ],
   "source": [
    "embeddings=genembedding(vocab)\n",
    "my_embeddings=embeddings(torch.tensor(vocab(context)))\n",
    "my_embeddings.shape"
   ]
  },
  {
   "cell_type": "markdown",
   "metadata": {},
   "source": [
    "Reshape the embeddings.\n"
   ]
  },
  {
   "cell_type": "code",
   "execution_count": 20,
   "metadata": {},
   "outputs": [
    {
     "data": {
      "text/plain": [
       "torch.Size([1, 40])"
      ]
     },
     "execution_count": 20,
     "metadata": {},
     "output_type": "execute_result"
    }
   ],
   "source": [
    "my_embeddings=my_embeddings.reshape(1,-1)\n",
    "my_embeddings.shape"
   ]
  },
  {
   "cell_type": "markdown",
   "metadata": {},
   "source": [
    "\n",
    "They can now be used as inputs in the next layer.\n"
   ]
  },
  {
   "cell_type": "code",
   "execution_count": 21,
   "metadata": {},
   "outputs": [
    {
     "data": {
      "text/plain": [
       "tensor([[-5.3688e-01,  2.3707e-01,  3.0333e-01,  1.0807e+00, -5.2527e-01,\n",
       "          5.6773e-01,  1.2071e-01,  2.1747e-01,  3.8052e-01,  5.6619e-02,\n",
       "         -4.5698e-01,  1.0500e-01,  6.9910e-01,  7.8327e-03,  3.7045e-01,\n",
       "          2.2016e-01,  1.8634e-01,  1.6013e+00, -7.6107e-02, -8.3742e-01,\n",
       "         -2.4428e-01,  6.7297e-01,  8.1638e-02,  1.2531e+00,  6.9655e-01,\n",
       "          1.0766e-01,  1.7367e-02, -1.8340e-02,  9.9517e-01, -2.5004e-01,\n",
       "          7.8362e-01,  3.3728e-01, -1.7057e-03,  2.3357e-01,  6.2356e-01,\n",
       "          2.1942e-01,  1.1707e+00, -9.4685e-02, -3.7589e-01, -1.8605e+00,\n",
       "         -7.3347e-01, -9.1620e-01,  7.2844e-01,  1.5413e-01, -4.7871e-01,\n",
       "          5.1069e-01, -7.5213e-01,  6.9246e-01, -6.2391e-01,  7.7329e-01,\n",
       "          2.1037e-01, -2.4226e-01, -5.3263e-02,  4.6781e-01,  6.5359e-01,\n",
       "          6.9241e-01, -2.2992e-01, -6.8096e-01,  6.1424e-01, -6.0473e-01,\n",
       "          3.6272e-01,  9.6146e-01,  5.7356e-01,  5.3381e-01,  1.0455e+00,\n",
       "         -1.9218e-01,  6.1456e-01, -3.1618e-01,  9.9364e-02,  1.9917e-02,\n",
       "         -2.0919e-01,  4.8669e-01, -8.7085e-01, -6.2964e-01, -5.9656e-02,\n",
       "         -7.4986e-01,  1.5583e-01,  3.0660e-01, -6.1852e-01, -5.8730e-01,\n",
       "         -1.0442e+00, -3.3271e-01,  6.2336e-01, -1.4971e-01,  2.7606e-01,\n",
       "         -7.1535e-01, -1.9154e+00, -2.6783e-01, -1.2820e-02, -5.7391e-01,\n",
       "          3.1577e-01, -4.4848e-02, -1.0947e+00, -5.3434e-02,  9.3056e-01,\n",
       "          1.7812e-01,  5.8232e-02,  3.9642e-01,  8.8953e-02, -6.7092e-01,\n",
       "          2.0704e-01,  1.3509e+00,  6.1020e-01, -2.3539e-02,  2.4278e-01,\n",
       "         -2.9541e-01, -7.1204e-01,  1.6173e-01, -1.0893e-01, -3.8207e-03,\n",
       "         -3.9041e-01,  2.1793e-01, -1.9420e-01, -4.0458e-01, -4.5282e-01,\n",
       "         -6.1369e-02, -4.0298e-01, -2.4336e-01, -1.7525e-03, -1.8937e-02,\n",
       "          7.1577e-01, -5.3489e-01,  1.2010e-01,  4.2656e-01,  2.3942e-01,\n",
       "          8.3144e-01, -4.9958e-01,  1.0177e+00]], grad_fn=<AddmmBackward0>)"
      ]
     },
     "execution_count": 21,
     "metadata": {},
     "output_type": "execute_result"
    }
   ],
   "source": [
    "linear(my_embeddings)"
   ]
  },
  {
   "cell_type": "markdown",
   "metadata": {},
   "source": [
    "## Batch function\n",
    "\n",
    "Create a Batch function to interface with the data loader. Several adjustments are necessary to handle words that are part of a context in one batch and a predicted word in the following batch.\n"
   ]
  },
  {
   "cell_type": "code",
   "execution_count": 22,
   "metadata": {},
   "outputs": [],
   "source": [
    "from torch.utils.data import DataLoader  # Importing DataLoader for batch processing\n",
    "import torch  # Importing PyTorch\n",
    "\n",
    "# Set the device to GPU if available; otherwise, use CPU\n",
    "device = torch.device(\"cuda\" if torch.cuda.is_available() else \"cpu\")\n",
    "\n",
    "# Define hyperparameters\n",
    "CONTEXT_SIZE = 3   # Number of previous words used as context for prediction\n",
    "BATCH_SIZE = 10    # Number of samples per training batch\n",
    "EMBEDDING_DIM = 10 # Dimension of word embeddings\n",
    "\n",
    "def collate_batch(batch):\n",
    "    \"\"\"\n",
    "    Processes a batch of text data into input (context) and output (target) tensors\n",
    "    for training a language model.\n",
    "\n",
    "    The function extracts:\n",
    "    - `context`: A list of word indices representing the context words for each target word.\n",
    "    - `target`:  A list of word indices representing the target word to predict.\n",
    "\n",
    "    Parameters:\n",
    "    batch (list): A list of tokenized words (strings).\n",
    "\n",
    "    Returns:\n",
    "    tuple: Two PyTorch tensors: (context_tensor, target_tensor)\n",
    "           - context_tensor: Tensor of shape (batch_size - CONTEXT_SIZE, CONTEXT_SIZE),\n",
    "             containing the word indices of context words.\n",
    "           - target_tensor: Tensor of shape (batch_size - CONTEXT_SIZE,),\n",
    "             containing the word indices of target words.\n",
    "    \"\"\"\n",
    "\n",
    "    batch_size = len(batch)  # Get the size of the batch\n",
    "    context, target = [], [] # Initialize lists for context and target words\n",
    "\n",
    "    # Loop through the batch, ensuring enough previous words exist for context\n",
    "    for i in range(CONTEXT_SIZE, batch_size):\n",
    "        # Convert the target word to its index using the vocabulary\n",
    "        target.append(vocab([batch[i]]))\n",
    "\n",
    "        # Convert the previous CONTEXT_SIZE words to indices using the vocabulary\n",
    "        context.append(vocab([batch[i - j - 1] for j in range(CONTEXT_SIZE)]))\n",
    "\n",
    "    # Convert lists to PyTorch tensors and move them to the appropriate device (CPU/GPU)\n",
    "    return torch.tensor(context).to(device), torch.tensor(target).to(device).reshape(-1)"
   ]
  },
  {
   "cell_type": "markdown",
   "metadata": {},
   "source": [
    "Similarly, it's important to highlight that the size of the last batch could deviate from that of the earlier batches. To tackle this, the approach involves adjusting the final batch to conform to the specified batch size, ensuring it becomes a multiple of the predetermined size. When necessary, you'll employ padding techniques to achieve this harmonization. One approach you'll use is appending the beginning of the song to the end of the batch.\n"
   ]
  },
  {
   "cell_type": "code",
   "execution_count": 23,
   "metadata": {},
   "outputs": [],
   "source": [
    "Padding=BATCH_SIZE-len(tokens)%BATCH_SIZE\n",
    "tokens_pad=tokens+tokens[0:Padding]"
   ]
  },
  {
   "cell_type": "code",
   "execution_count": 24,
   "metadata": {},
   "outputs": [
    {
     "name": "stdout",
     "output_type": "stream",
     "text": [
      "385\n",
      "10\n",
      "5\n"
     ]
    },
    {
     "data": {
      "text/plain": [
       "(None, None, None)"
      ]
     },
     "execution_count": 24,
     "metadata": {},
     "output_type": "execute_result"
    }
   ],
   "source": [
    "print(len(tokens)), print(BATCH_SIZE), print(len(tokens)%BATCH_SIZE)"
   ]
  },
  {
   "cell_type": "code",
   "execution_count": 25,
   "metadata": {
    "scrolled": true
   },
   "outputs": [
    {
     "data": {
      "text/plain": [
       "(390,\n",
       " ['we', 'are', 'no', 'strangers', 'to'],\n",
       " ['we', 'are', 'no', 'strangers', 'to'])"
      ]
     },
     "execution_count": 25,
     "metadata": {},
     "output_type": "execute_result"
    }
   ],
   "source": [
    "len(tokens_pad), tokens[0:Padding], tokens_pad[-5:]"
   ]
  },
  {
   "cell_type": "markdown",
   "metadata": {},
   "source": [
    "Create the`DataLoader`.\n"
   ]
  },
  {
   "cell_type": "code",
   "execution_count": 26,
   "metadata": {},
   "outputs": [],
   "source": [
    "dataloader = DataLoader(\n",
    "     tokens_pad, batch_size=BATCH_SIZE, shuffle=False, collate_fn=collate_batch\n",
    ")"
   ]
  },
  {
   "cell_type": "markdown",
   "metadata": {},
   "source": [
    "## Multi-class neural network\n",
    "\n",
    "You have developed a PyTorch class for a multi-class neural network. The network's output is the probability of the next word within a given context. Therefore, the number of classes corresponds to the count of distinct words. The initial layer consists of embeddings, and in addition to the final layer, an extra hidden layer is incorporated.\n"
   ]
  },
  {
   "cell_type": "code",
   "execution_count": 27,
   "metadata": {},
   "outputs": [],
   "source": [
    "class NGramLanguageModeler(nn.Module):\n",
    "    \"\"\"\n",
    "    A neural network-based n-gram language model that predicts the next word \n",
    "    given a sequence of context words.\n",
    "\n",
    "    This model consists of:\n",
    "    - An embedding layer that converts word indices into dense vector representations.\n",
    "    - A fully connected hidden layer with ReLU activation.\n",
    "    - An output layer that predicts the probability distribution over the vocabulary.\n",
    "\n",
    "    Parameters:\n",
    "    vocab_size (int): The number of unique words in the vocabulary.\n",
    "    embedding_dim (int): The size of the word embeddings (vector representation of words).\n",
    "    context_size (int): The number of previous words used as context to predict the next word.\n",
    "    \"\"\"\n",
    "\n",
    "    def __init__(self, vocab_size, embedding_dim, context_size):\n",
    "        super(NGramLanguageModeler, self).__init__()\n",
    "\n",
    "        # Store context size and embedding dimension\n",
    "        self.context_size = context_size\n",
    "        self.embedding_dim = embedding_dim\n",
    "\n",
    "        # Embedding layer: Maps word indices to dense vectors\n",
    "        self.embeddings = nn.Embedding(vocab_size, embedding_dim)\n",
    "\n",
    "        # Fully connected hidden layer: Maps the concatenated embeddings to a 128-dimensional space\n",
    "        self.linear1 = nn.Linear(context_size * embedding_dim, 128)\n",
    "\n",
    "        # Output layer: Maps the hidden layer output to vocabulary size (probability distribution over words)\n",
    "        self.linear2 = nn.Linear(128, vocab_size)\n",
    "\n",
    "    def forward(self, inputs):\n",
    "        \"\"\"\n",
    "        Forward pass of the model.\n",
    "\n",
    "        Parameters:\n",
    "        inputs (Tensor): A tensor of shape (batch_size, context_size) containing word indices.\n",
    "\n",
    "        Returns:\n",
    "        Tensor: A tensor of shape (batch_size, vocab_size) representing predicted probabilities for the next word.\n",
    "        \"\"\"\n",
    "\n",
    "        # Convert input word indices into dense vectors using the embedding layer\n",
    "        embeds = self.embeddings(inputs)  # Shape: (batch_size, context_size, embedding_dim)\n",
    "\n",
    "        # Reshape the embeddings into a single vector per input sample\n",
    "        embeds = torch.reshape(embeds, (-1, self.context_size * self.embedding_dim))  \n",
    "        # New shape: (batch_size, context_size * embedding_dim)\n",
    "\n",
    "        # Apply first fully connected layer with ReLU activation\n",
    "        out = F.relu(self.linear1(embeds))  # Shape: (batch_size, 128)\n",
    "\n",
    "        # Apply second fully connected layer to generate vocabulary-size logits\n",
    "        out = self.linear2(out)  # Shape: (batch_size, vocab_size)\n",
    "\n",
    "        return out\n"
   ]
  },
  {
   "cell_type": "markdown",
   "metadata": {},
   "source": [
    "Create a model.\n"
   ]
  },
  {
   "cell_type": "code",
   "execution_count": 28,
   "metadata": {},
   "outputs": [],
   "source": [
    "model = NGramLanguageModeler(len(vocab), EMBEDDING_DIM, CONTEXT_SIZE).to(device)"
   ]
  },
  {
   "cell_type": "markdown",
   "metadata": {},
   "source": [
    "Retrieve samples from the data loader object and input them into the neural network.\n"
   ]
  },
  {
   "cell_type": "code",
   "execution_count": 37,
   "metadata": {},
   "outputs": [
    {
     "name": "stdout",
     "output_type": "stream",
     "text": [
      "tensor([[70, 58, 21],\n",
      "        [74, 70, 58],\n",
      "        [25, 74, 70],\n",
      "        [69, 25, 74],\n",
      "        [ 2, 69, 25],\n",
      "        [20,  2, 69],\n",
      "        [31, 20,  2]]) tensor([74, 25, 69,  2, 20, 31, 72])\n"
     ]
    }
   ],
   "source": [
    "context, target=next(iter(dataloader))\n",
    "print(context, target)\n",
    "out=model(context)"
   ]
  },
  {
   "cell_type": "markdown",
   "metadata": {},
   "source": [
    "While the model remains untrained, analyzing the output can provide us with a clearer understanding. In the output, the first dimension corresponds to the batch size, while the second dimension represents the probability associated with each class.\n"
   ]
  },
  {
   "cell_type": "code",
   "execution_count": 30,
   "metadata": {},
   "outputs": [
    {
     "data": {
      "text/plain": [
       "torch.Size([7, 79])"
      ]
     },
     "execution_count": 30,
     "metadata": {},
     "output_type": "execute_result"
    }
   ],
   "source": [
    "out.shape"
   ]
  },
  {
   "cell_type": "code",
   "execution_count": 40,
   "metadata": {
    "scrolled": true
   },
   "outputs": [
    {
     "data": {
      "text/plain": [
       "tensor([[ 4.1859e-01, -1.0657e-01, -4.2622e-01, -1.9594e-01,  4.2288e-04,\n",
       "          1.1032e-01,  2.8813e-02, -9.8962e-02, -8.8416e-02,  1.9895e-01,\n",
       "         -7.3432e-02,  8.4371e-02,  5.2790e-02, -1.8841e-01, -3.0997e-02,\n",
       "          1.9494e-01,  7.7979e-02, -3.6235e-01,  1.5113e-01,  2.6559e-01,\n",
       "          1.4513e-01, -5.2608e-02,  1.2721e-01, -9.4358e-03,  2.3048e-02,\n",
       "          1.9233e-01,  8.3972e-02, -9.5611e-02,  3.9734e-02,  5.8917e-03,\n",
       "          2.0010e-02, -9.3516e-02,  2.0675e-01, -1.5042e-01, -9.4835e-02,\n",
       "          2.8969e-01, -3.0671e-01, -1.9428e-02, -1.5968e-02,  3.2668e-01,\n",
       "          3.5778e-01,  4.2229e-01,  1.4150e-01,  1.0831e-01, -2.5424e-01,\n",
       "         -9.7806e-02,  8.6818e-02, -5.7768e-02, -2.4648e-01,  2.9486e-01,\n",
       "          1.7920e-01, -1.9017e-01,  1.5963e-01,  8.3783e-02, -5.5470e-02,\n",
       "          1.0688e-01, -3.4008e-02, -1.9913e-01,  1.1444e-01, -1.7110e-02,\n",
       "         -1.0951e-02,  1.6625e-01, -2.9211e-01, -4.5477e-01, -9.6872e-02,\n",
       "         -4.4034e-02,  2.8725e-01,  1.3770e-01,  4.6049e-01,  2.5943e-02,\n",
       "         -2.4849e-01,  9.5067e-02, -1.9197e-01,  2.5006e-01, -1.7906e-01,\n",
       "          3.3449e-03, -5.6434e-01,  9.1285e-02, -8.7379e-02],\n",
       "        [ 6.6173e-02, -1.3988e-02, -8.4710e-02, -7.5163e-02, -6.7893e-02,\n",
       "         -2.6880e-01,  1.8875e-02, -8.8630e-02,  2.7258e-01,  1.6697e-01,\n",
       "         -1.4500e-01, -2.0035e-01,  1.9259e-01, -8.9765e-02,  1.6076e-01,\n",
       "         -1.5394e-01,  1.6864e-01, -6.0991e-02, -6.4989e-02, -2.4378e-02,\n",
       "          3.8801e-02,  2.6305e-01,  8.0239e-02,  3.6193e-01,  1.2115e-01,\n",
       "         -3.9732e-03, -5.2546e-02, -4.1406e-02,  1.0492e-01, -6.3956e-04,\n",
       "          1.0683e-01, -1.0681e-01, -5.6218e-01,  2.4814e-01, -4.2825e-01,\n",
       "          3.3355e-01, -2.4853e-01, -2.1326e-01, -3.1360e-01,  1.3149e-01,\n",
       "          1.7224e-01,  2.6533e-01,  1.8084e-01, -1.7303e-01,  2.4357e-02,\n",
       "         -2.3830e-01,  1.4128e-01, -2.8765e-01, -6.7850e-02,  1.4944e-01,\n",
       "         -1.9047e-01, -1.5501e-01,  4.2839e-03,  1.5629e-01, -1.4640e-01,\n",
       "          6.2663e-03, -2.0939e-03,  1.2464e-01, -2.8985e-01,  2.0127e-01,\n",
       "          8.0180e-02, -8.5151e-02, -6.3087e-01,  3.2906e-01, -4.6187e-02,\n",
       "         -1.1394e-01, -4.9903e-02, -3.9288e-02, -6.8593e-02,  2.1821e-01,\n",
       "         -1.3600e-01, -3.1858e-01,  3.8283e-01,  1.8975e-01, -7.4514e-02,\n",
       "         -2.7712e-01,  6.4655e-03,  1.0676e-02,  8.3967e-02],\n",
       "        [ 2.2385e-01, -2.6742e-02,  1.2577e-01, -1.8277e-01,  2.0275e-01,\n",
       "         -8.5331e-02, -3.6293e-01,  5.8195e-02, -2.2481e-01,  3.0170e-01,\n",
       "         -3.2627e-01,  1.8284e-01, -2.7975e-01, -1.2899e-01, -1.7472e-03,\n",
       "         -1.6433e-01, -9.1428e-02, -2.6889e-01,  2.7632e-01,  6.9141e-02,\n",
       "         -3.5876e-02,  5.6109e-01, -1.6602e-01,  4.7004e-02, -9.1350e-02,\n",
       "          1.7276e-01, -1.8130e-01, -6.7727e-02, -1.3642e-02,  2.3882e-01,\n",
       "          2.8762e-01, -5.9459e-02, -1.3623e-01,  2.9701e-02, -1.2221e-01,\n",
       "          4.6477e-01, -3.7468e-01,  3.4414e-01, -1.1357e-01,  1.3558e-01,\n",
       "          6.9379e-02,  2.3857e-01, -1.0051e-01,  3.5887e-01, -3.8850e-01,\n",
       "         -3.5166e-02, -2.3991e-02, -3.9490e-02, -1.4245e-01, -5.1000e-02,\n",
       "          2.0085e-01, -3.3295e-01,  4.3833e-03, -1.0636e-01,  2.3709e-01,\n",
       "         -1.3864e-02,  1.3544e-02,  5.4711e-02,  4.8624e-02, -2.4847e-02,\n",
       "          1.7706e-01,  9.3636e-02, -1.4525e-01,  2.1142e-01, -2.9602e-01,\n",
       "         -1.2572e-01,  2.9957e-01, -2.4543e-03,  6.0848e-02, -1.3572e-02,\n",
       "         -2.2828e-01,  2.7103e-01, -3.1899e-02,  2.4976e-01, -2.6068e-01,\n",
       "         -2.7636e-01, -3.6303e-01, -3.2181e-01, -1.9750e-01],\n",
       "        [ 1.6812e-01, -2.3486e-01, -2.4386e-01, -3.3664e-03,  4.0374e-02,\n",
       "         -1.3908e-01, -1.2558e-01,  3.7681e-02,  3.2551e-02,  4.6018e-01,\n",
       "         -1.3410e-01, -5.7078e-02,  7.9780e-03, -3.1676e-01,  2.3849e-01,\n",
       "         -3.4682e-01,  2.1178e-01, -1.6002e-01,  9.4970e-03, -3.5983e-01,\n",
       "         -2.6196e-01,  2.5851e-01,  6.0849e-03,  2.8290e-01, -3.3767e-02,\n",
       "         -1.5321e-01, -1.3627e-01, -4.5018e-01,  3.0124e-01, -7.7083e-02,\n",
       "         -8.0272e-02, -2.5088e-02, -4.1361e-01,  1.9974e-01, -2.5601e-01,\n",
       "          1.4767e-01, -2.2355e-01, -1.7928e-01, -1.4199e-01, -1.4379e-01,\n",
       "         -7.8946e-02,  1.7861e-01, -1.4002e-01,  1.4045e-01, -2.0642e-03,\n",
       "         -2.3237e-01,  2.3928e-01, -2.7474e-01, -6.7831e-02,  1.0355e-01,\n",
       "         -7.6101e-02, -1.8611e-01,  2.0738e-01,  4.1714e-02, -1.9994e-01,\n",
       "         -2.8962e-01, -1.6046e-01, -3.2732e-01, -1.9119e-01,  3.4496e-01,\n",
       "          2.6516e-02, -2.0785e-01, -3.4364e-01,  2.2435e-01, -1.9758e-01,\n",
       "         -1.3718e-01,  1.3359e-01, -2.9165e-01,  1.1002e-01, -1.3801e-01,\n",
       "         -2.0577e-02, -1.7237e-01,  4.6703e-01,  1.1895e-01, -2.2306e-01,\n",
       "         -3.4452e-01, -2.6750e-01,  5.7071e-02,  1.3261e-01],\n",
       "        [ 3.4843e-02, -4.0088e-02,  2.0806e-01,  1.7459e-01,  2.9329e-01,\n",
       "         -1.4033e-01,  1.0894e-01, -3.4945e-01,  1.4725e-01,  1.8706e-01,\n",
       "          8.3269e-02,  3.4749e-02, -1.4484e-01,  5.1438e-02, -2.7218e-02,\n",
       "         -1.2460e-01, -7.2013e-02,  5.7631e-02,  2.7856e-01, -5.6112e-02,\n",
       "          1.4446e-01,  2.0260e-01, -1.8654e-01,  1.4554e-01,  6.4670e-03,\n",
       "          4.3993e-01,  1.7382e-01, -6.5391e-02,  1.0218e-01,  2.7917e-01,\n",
       "          6.9200e-02,  7.5481e-02, -2.7570e-01,  7.6256e-02,  2.8002e-01,\n",
       "          8.5503e-02, -1.4265e-01, -2.8915e-01,  1.2958e-02, -4.0504e-01,\n",
       "          2.2430e-01,  1.7900e-01, -3.6933e-01,  1.4733e-01, -3.6086e-01,\n",
       "         -6.9432e-02,  1.6683e-01,  5.6898e-02,  9.2440e-02, -4.2619e-02,\n",
       "         -2.1485e-01, -2.9108e-01, -1.3080e-01,  5.1099e-02, -1.7325e-01,\n",
       "          3.5134e-02, -1.1889e-01, -1.0316e-01,  9.2300e-04,  2.1228e-01,\n",
       "         -2.7665e-01, -1.4731e-01,  4.6019e-03, -5.4303e-02, -2.2443e-01,\n",
       "         -3.7140e-02,  2.0798e-01, -2.5168e-01, -5.7131e-02, -1.8228e-02,\n",
       "         -1.7150e-01,  1.0269e-02, -4.3328e-02,  1.3927e-01, -3.1183e-01,\n",
       "         -3.1396e-01, -1.3112e-01, -4.4179e-02, -3.3151e-02],\n",
       "        [ 6.1339e-02,  1.9033e-01, -1.1120e-01,  4.4638e-02,  1.1300e-01,\n",
       "          1.3598e-01, -2.7909e-02, -1.2262e-01,  4.4370e-01,  1.6124e-01,\n",
       "         -1.9794e-01, -1.2315e-01,  8.2366e-03, -3.0988e-01,  5.5179e-02,\n",
       "          6.2864e-02,  1.6390e-01, -1.0814e-01,  3.9191e-02, -3.0086e-01,\n",
       "         -1.7874e-01, -2.1040e-03,  1.4885e-01, -5.1266e-02,  2.4025e-02,\n",
       "          4.6338e-02,  6.2894e-03, -3.7173e-02,  1.6346e-01,  1.9138e-03,\n",
       "         -1.6437e-01, -6.5494e-02, -4.6607e-01,  1.9728e-02, -7.1816e-02,\n",
       "          6.8236e-01, -2.2584e-01, -1.7519e-01, -6.3060e-02,  7.6302e-02,\n",
       "         -1.1574e-01,  2.1591e-01, -1.6242e-01,  1.4554e-01, -2.3670e-01,\n",
       "          9.9915e-02,  3.3029e-01, -1.3880e-01, -2.0170e-01,  3.6504e-01,\n",
       "         -7.5582e-03, -2.5121e-02,  2.5121e-01,  7.6400e-02, -3.0745e-01,\n",
       "          8.5105e-02, -1.3047e-02, -7.2898e-03, -1.0583e-01,  1.4126e-01,\n",
       "         -4.5372e-02, -3.2625e-01, -2.2701e-01,  1.4149e-01, -1.5009e-01,\n",
       "         -3.4426e-02,  1.3311e-01, -2.6381e-01,  1.2644e-01, -4.8317e-01,\n",
       "         -1.5293e-01,  9.5717e-02,  1.5152e-02,  3.3716e-01,  9.3317e-02,\n",
       "         -3.1697e-01, -3.2150e-01, -2.0574e-01,  3.7878e-02],\n",
       "        [ 4.9931e-02, -1.5143e-01,  1.6993e-01, -2.0060e-01,  1.5341e-01,\n",
       "         -3.1184e-03, -2.2274e-01,  1.6411e-01, -2.2433e-01,  2.3271e-01,\n",
       "         -6.4918e-02, -1.2742e-01, -4.6085e-02,  1.2451e-01,  1.7895e-01,\n",
       "         -1.2680e-01,  2.2077e-01, -3.7173e-01,  4.2284e-02,  3.8056e-03,\n",
       "         -4.8932e-02,  5.6118e-01, -2.1606e-01,  5.3122e-01,  3.7650e-01,\n",
       "          4.1600e-01, -3.3522e-01, -3.3808e-01,  1.0083e-01,  6.3307e-02,\n",
       "          1.8040e-01, -1.4963e-01, -3.4022e-01,  1.4398e-01, -2.8125e-01,\n",
       "          2.6943e-01, -4.5526e-01,  2.2902e-02,  2.4844e-01,  8.1146e-02,\n",
       "         -1.7833e-02,  2.1995e-01,  1.7965e-01,  2.6069e-02, -5.8943e-01,\n",
       "         -3.6266e-01,  2.9699e-01, -2.3227e-01, -2.0413e-01,  7.4044e-02,\n",
       "          2.7377e-01, -3.9077e-01, -6.6437e-02, -7.5185e-02,  1.4340e-01,\n",
       "         -1.4533e-01, -2.1836e-01,  1.7665e-01, -3.1018e-01,  3.5613e-01,\n",
       "          2.4692e-01,  3.7471e-01, -1.1673e-01, -1.2991e-02, -1.8608e-01,\n",
       "          7.0185e-02,  3.5479e-01,  9.9513e-02,  2.8278e-01, -1.9079e-01,\n",
       "         -7.1829e-02,  6.2511e-02,  3.9698e-01, -7.1208e-02, -2.4772e-01,\n",
       "         -2.3847e-01, -4.5265e-01, -2.3426e-01,  8.2244e-02]],\n",
       "       grad_fn=<AddmmBackward0>)"
      ]
     },
     "execution_count": 40,
     "metadata": {},
     "output_type": "execute_result"
    }
   ],
   "source": [
    "out"
   ]
  },
  {
   "cell_type": "markdown",
   "metadata": {},
   "source": [
    "Find the index with the highest probability.\n"
   ]
  },
  {
   "cell_type": "code",
   "execution_count": 31,
   "metadata": {},
   "outputs": [
    {
     "data": {
      "text/plain": [
       "tensor([68, 72, 21, 72, 25, 35, 21])"
      ]
     },
     "execution_count": 31,
     "metadata": {},
     "output_type": "execute_result"
    }
   ],
   "source": [
    "predicted_index =torch.argmax(out,1)\n",
    "predicted_index"
   ]
  },
  {
   "cell_type": "markdown",
   "metadata": {},
   "source": [
    "Find the corresponding token.\n"
   ]
  },
  {
   "cell_type": "code",
   "execution_count": 32,
   "metadata": {},
   "outputs": [
    {
     "data": {
      "text/plain": [
       "['if', 'rules', 'we', 'rules', 'to', 'both', 'we']"
      ]
     },
     "execution_count": 32,
     "metadata": {},
     "output_type": "execute_result"
    }
   ],
   "source": [
    "[index_to_token[i.item()] for i in  predicted_index]"
   ]
  },
  {
   "cell_type": "markdown",
   "metadata": {},
   "source": [
    "Create a function that accomplishes the same task for the tokens.\n"
   ]
  },
  {
   "cell_type": "code",
   "execution_count": 38,
   "metadata": {},
   "outputs": [],
   "source": [
    "def write_song(model, my_song, number_of_words=100):\n",
    "    \"\"\"\n",
    "    Generates text using a trained n-gram language model.\n",
    "\n",
    "    Given an initial text (`my_song`), the function generates additional words by \n",
    "    predicting the next word iteratively based on the trained model.\n",
    "\n",
    "    Parameters:\n",
    "    model (nn.Module): The trained n-gram language model.\n",
    "    my_song (str): The initial seed text to start generating words.\n",
    "    number_of_words (int): The number of words to generate (default: 100).\n",
    "\n",
    "    Returns:\n",
    "    str: The generated song lyrics as a string.\n",
    "    \"\"\"\n",
    "\n",
    "    # Get the mapping from index to word for decoding predictions\n",
    "    index_to_token = vocab.get_itos()\n",
    "\n",
    "    # Loop to generate the desired number of words\n",
    "    for i in range(number_of_words):\n",
    "\n",
    "        with torch.no_grad():  # Disable gradient computation for inference\n",
    "            \n",
    "            # Prepare the input context by extracting the last CONTEXT_SIZE words from tokens\n",
    "            context = torch.tensor(\n",
    "                vocab([tokens[i - j - 1] for j in range(CONTEXT_SIZE)])\n",
    "            ).to(device)  # Move to CPU/GPU as required\n",
    "            \n",
    "            # Predict the next word by selecting the word with the highest probability\n",
    "            word_idx = torch.argmax(model(context))  # Get index of the most likely next word\n",
    "            \n",
    "            # Append the predicted word to the generated text\n",
    "            my_song += \" \" + index_to_token[word_idx.detach().item()]\n",
    "\n",
    "    return my_song  # Return the generated lyrics\n"
   ]
  },
  {
   "cell_type": "code",
   "execution_count": 39,
   "metadata": {},
   "outputs": [
    {
     "name": "stdout",
     "output_type": "stream",
     "text": [
      "Never gonna give you up inside both it if rules we rules to both we around both gotta inside dont around get both weve get a were inside rules to around a ask you get run a if if both inside both if get if wouldnt both been both goodbye rules get see a both im get get both inside rules we around get play around we for inside both rules get both been both im get get both see we get get both if get were cry inside both long each get get both to if cry see so we if get around both\n"
     ]
    }
   ],
   "source": [
    "def pickrandomline(song):\n",
    "    \"\"\"\n",
    "    Selects a random line from the given song text.\n",
    "\n",
    "    This function splits the song into separate lines and randomly picks one of them.\n",
    "\n",
    "    Parameters:\n",
    "    song (str): The song lyrics as a multi-line string.\n",
    "\n",
    "    Returns:\n",
    "    str: A randomly selected line from the song.\n",
    "    \"\"\"\n",
    "    \n",
    "    # Split the song into individual lines\n",
    "    lines = song.split(\"\\n\")  \n",
    "    \n",
    "    # Randomly select a line and remove leading/trailing whitespace\n",
    "    selected_line = random.choice(lines).strip()\n",
    "    \n",
    "    return selected_line  # Return the randomly selected line\n",
    "\n",
    "# Example usage:\n",
    "selected_line = pickrandomline(song)  # Pick a random line from the song\n",
    "\n",
    "# Generate a new song starting with the selected line\n",
    "generated_song = write_song(model, selected_line)\n",
    "\n",
    "# Print the generated lyrics\n",
    "print(generated_song)"
   ]
  },
  {
   "cell_type": "markdown",
   "metadata": {},
   "source": [
    "## Training\n",
    "\n",
    "Training a language model involves a multi-step process that leverages training and testing data to optimize model performance. In the realm of Natural Language Processing (NLP), this process often employs various metrics to gauge a model's accuracy, such as perplexity or accuracy on unseen data. However, in the context of your current exploration, you will embark on a slightly different journey. Instead of relying solely on conventional NLP metrics, the focus shifts to manual inspection of the results. \n",
    "\n",
    "You have the cross entropy loss between input logits and target:\n"
   ]
  },
  {
   "cell_type": "code",
   "execution_count": 41,
   "metadata": {},
   "outputs": [],
   "source": [
    "criterion = torch.nn.CrossEntropyLoss()"
   ]
  },
  {
   "cell_type": "markdown",
   "metadata": {},
   "source": [
    "You have developed a function dedicated to training the model using the supplied data loader. In addition to training the model, the function's output includes predictions for each epoch, spanning context for the next 100 words.\n",
    "\n",
    "\n",
    ">**Note: Since the dataset used is relatively small and the model is trained for a limited number of epochs, the generated song may not always be fully coherent due to a restricted vocabulary. This example primarily serves to demonstrate the functionality of a feedforward neural network for language modeling.**\n"
   ]
  },
  {
   "cell_type": "code",
   "execution_count": 44,
   "metadata": {},
   "outputs": [],
   "source": [
    "def train(dataloader, model,song,number_of_epochs=100, show=10):\n",
    "    \"\"\"\n",
    "    Args:\n",
    "        dataloader (DataLoader): DataLoader containing training data.\n",
    "        model (nn.Module): Neural network model to be trained.\n",
    "        number_of_epochs (int, optional): Number of epochs for training. Default is 100.\n",
    "        show (int, optional): Interval for displaying progress. Default is 10.\n",
    "\n",
    "    Returns:\n",
    "        list: List containing loss values for each epoch.\n",
    "    \"\"\"\n",
    "\n",
    "    MY_LOSS = []  # List to store loss values for each epoch\n",
    "\n",
    "    # Iterate over the specified number of epochs\n",
    "    for epoch in tqdm(range(number_of_epochs)):\n",
    "        total_loss = 0  # Initialize total loss for the current epoch\n",
    "        my_song = \"\"    # Initialize a string to store the generated song\n",
    "\n",
    "        # Iterate over batches in the dataloader\n",
    "        for context, target in dataloader:\n",
    "            model.zero_grad()          # Zero the gradients to avoid accumulation\n",
    "            predicted = model(context)  # Forward pass through the model to get predictions\n",
    "            loss = criterion(predicted, target.reshape(-1))  # Calculate the loss\n",
    "            total_loss += loss.item()   # Accumulate the loss\n",
    "\n",
    "            loss.backward()    # Backpropagation to compute gradients\n",
    "            optimizer.step()   # Update model parameters using the optimizer\n",
    "\n",
    "        # Display progress and generate song at specified intervals\n",
    "        if epoch % show == 0:\n",
    "            selected_line=pickrandomline(song)\n",
    "            my_song += write_song(model, selected_line)    # Generate song using the model\n",
    "\n",
    "            print(\"Generated Song:\")\n",
    "            print(\"\\n\")\n",
    "            print(my_song)\n",
    "\n",
    "        MY_LOSS.append(total_loss/len(dataloader))  # Append the total loss for the epoch to MY_LOSS list\n",
    "\n",
    "    return MY_LOSS  # Return the list of  mean loss values for each epoch"
   ]
  },
  {
   "cell_type": "markdown",
   "metadata": {},
   "source": [
    "The following list will be used to store the loss for each model.\n"
   ]
  },
  {
   "cell_type": "code",
   "execution_count": 45,
   "metadata": {},
   "outputs": [],
   "source": [
    "my_loss_list=[]"
   ]
  },
  {
   "cell_type": "markdown",
   "metadata": {},
   "source": [
    "This code segment initializes an n-gram language model with a context size of 2. The model, named `model_2`, is configured based on the provided vocabulary size, embedding dimension, and context size. The Stochastic Gradient Descent (SGD) optimizer is employed with a learning rate of 0.01 to manage model parameter updates. A learning rate scheduler, using a step-wise approach with a reduction factor of 0.1 per epoch, is set up to adapt the learning rate during the training process. These settings collectively establish the framework for training the n-gram language model with tailored optimization and learning rate adjustment.\n"
   ]
  },
  {
   "cell_type": "code",
   "execution_count": 46,
   "metadata": {},
   "outputs": [],
   "source": [
    "# Define the context size for the n-gram model\n",
    "CONTEXT_SIZE = 2\n",
    "\n",
    "# Create an instance of the NGramLanguageModeler class with specified parameters\n",
    "model_2 = NGramLanguageModeler(len(vocab), EMBEDDING_DIM, CONTEXT_SIZE).to(device)\n",
    "\n",
    "# Define the optimizer for training the model, using stochastic gradient descent (SGD)\n",
    "optimizer = optim.SGD(model_2.parameters(), lr=0.01)\n",
    "\n",
    "# Set up a learning rate scheduler using StepLR to adjust the learning rate during training\n",
    "scheduler = torch.optim.lr_scheduler.StepLR(optimizer, step_size=1.0, gamma=0.1)"
   ]
  },
  {
   "cell_type": "markdown",
   "metadata": {},
   "source": [
    "Now, you will train the model.\n"
   ]
  },
  {
   "cell_type": "code",
   "execution_count": 47,
   "metadata": {
    "scrolled": true
   },
   "outputs": [
    {
     "name": "stderr",
     "output_type": "stream",
     "text": [
      "  2%|▏         | 2/100 [00:00<00:18,  5.27it/s]"
     ]
    },
    {
     "name": "stdout",
     "output_type": "stream",
     "text": [
      "Generated Song:\n",
      "\n",
      "\n",
      "Weve known each other for so long say you been you <unk> <unk> <unk> just <unk> you you never <unk> <unk> <unk> <unk> <unk> <unk> <unk> from <unk> <unk> never <unk> <unk> <unk> <unk> too <unk> you <unk> <unk> <unk> <unk> you aching <unk> love never <unk> <unk> you from <unk> <unk> <unk> <unk> <unk> say <unk> <unk> <unk> <unk> of say <unk> <unk> <unk> <unk> <unk> <unk> you you you <unk> <unk> <unk> you from of <unk> <unk> <unk> <unk> <unk> <unk> <unk> <unk> you <unk> <unk> you were say around <unk> <unk> you <unk> <unk> never you <unk> wanna never you you <unk> <unk> <unk>\n"
     ]
    },
    {
     "name": "stderr",
     "output_type": "stream",
     "text": [
      " 12%|█▏        | 12/100 [00:02<00:19,  4.51it/s]"
     ]
    },
    {
     "name": "stdout",
     "output_type": "stream",
     "text": [
      "Generated Song:\n",
      "\n",
      "\n",
      "Never gonna tell a lie and hurt you never you never <unk> <unk> you never never never never you never never you <unk> <unk> <unk> <unk> <unk> you never <unk> never <unk> you never never you never you <unk> <unk> <unk> <unk> you you <unk> you you <unk> <unk> you never <unk> <unk> <unk> <unk> you never <unk> <unk> <unk> <unk> you never never <unk> <unk> <unk> you <unk> you you never <unk> <unk> <unk> you never never <unk> <unk> <unk> you never <unk> <unk> <unk> you you and you you never <unk> <unk> <unk> you <unk> <unk> never <unk> <unk> you never you <unk> <unk> <unk> <unk>\n"
     ]
    },
    {
     "name": "stderr",
     "output_type": "stream",
     "text": [
      " 22%|██▏       | 22/100 [00:04<00:14,  5.48it/s]"
     ]
    },
    {
     "name": "stdout",
     "output_type": "stream",
     "text": [
      "Generated Song:\n",
      "\n",
      "\n",
      "Weve known each other for so long never never never and never you never never never never never never never never <unk> <unk> and <unk> <unk> you never <unk> never <unk> you never and you never you <unk> <unk> <unk> tell you down never you you <unk> tell you down <unk> <unk> <unk> tell you never <unk> <unk> <unk> tell you down never <unk> <unk> tell you and you you never <unk> <unk> tell you down never <unk> <unk> tell goodbye never <unk> <unk> tell you and and you you never never never and you <unk> <unk> never <unk> <unk> never never never and <unk> and <unk>\n"
     ]
    },
    {
     "name": "stderr",
     "output_type": "stream",
     "text": [
      " 32%|███▏      | 32/100 [00:06<00:12,  5.63it/s]"
     ]
    },
    {
     "name": "stdout",
     "output_type": "stream",
     "text": [
      "Generated Song:\n",
      "\n",
      "\n",
      "We are no strangers to love never never never and never you never never never never never never never and <unk> <unk> and <unk> <unk> you never <unk> never <unk> you never and down never you <unk> <unk> <unk> tell you how never you you <unk> tell you down <unk> <unk> <unk> tell you down <unk> <unk> <unk> tell you down never <unk> <unk> tell goodbye and you you never <unk> <unk> tell you down never <unk> <unk> tell goodbye never <unk> <unk> tell you and and hurt you never never each and you <unk> <unk> never <unk> <unk> hurt never never <unk> <unk> and <unk>\n"
     ]
    },
    {
     "name": "stderr",
     "output_type": "stream",
     "text": [
      " 42%|████▏     | 42/100 [00:08<00:11,  5.02it/s]"
     ]
    },
    {
     "name": "stdout",
     "output_type": "stream",
     "text": [
      "Generated Song:\n",
      "\n",
      "\n",
      "Never gonna tell a lie and hurt you never never never and never you never never never game never never you to <unk> <unk> and <unk> <unk> you never <unk> never never hurt never and how we been <unk> <unk> <unk> tell you how never you you <unk> tell you down never <unk> <unk> tell you down never <unk> <unk> tell you down never <unk> <unk> tell goodbye and desert you never <unk> <unk> tell you down never <unk> <unk> tell goodbye never <unk> <unk> tell you hurt and hurt you never never each and for <unk> <unk> never <unk> been hurt never never too <unk> and <unk>\n"
     ]
    },
    {
     "name": "stderr",
     "output_type": "stream",
     "text": [
      " 51%|█████     | 51/100 [00:10<00:09,  5.11it/s]"
     ]
    },
    {
     "name": "stdout",
     "output_type": "stream",
     "text": [
      "Generated Song:\n",
      "\n",
      "\n",
      "Inside we both know whats been going on never never no strangers to you never we never game never never know to <unk> <unk> and <unk> <unk> you never desert never never hurt never and how we im <unk> <unk> <unk> tell you how never feeling know <unk> tell you down never <unk> <unk> tell you down never <unk> <unk> tell you down never <unk> <unk> tell goodbye and desert you never <unk> <unk> tell you down never <unk> <unk> tell goodbye never <unk> <unk> tell you other and hurt you never known each other for <unk> <unk> to <unk> been hurt never youre too shy to say\n"
     ]
    },
    {
     "name": "stderr",
     "output_type": "stream",
     "text": [
      " 62%|██████▏   | 62/100 [00:12<00:06,  5.56it/s]"
     ]
    },
    {
     "name": "stdout",
     "output_type": "stream",
     "text": [
      "Generated Song:\n",
      "\n",
      "\n",
      "Never gonna say goodbye never never no strangers to you never we the game never never know to <unk> <unk> and and <unk> feeling never other never never hurt never and how we im <unk> <unk> <unk> tell you how never feeling <unk> <unk> tell you down never <unk> <unk> tell you down never <unk> <unk> tell you down never <unk> <unk> tell goodbye and desert you never <unk> <unk> tell you down never <unk> <unk> tell goodbye never <unk> <unk> tell you other and hurt you never known each other for <unk> <unk> to <unk> been hurt but youre too shy to say\n"
     ]
    },
    {
     "name": "stderr",
     "output_type": "stream",
     "text": [
      " 72%|███████▏  | 72/100 [00:14<00:05,  5.58it/s]"
     ]
    },
    {
     "name": "stdout",
     "output_type": "stream",
     "text": [
      "Generated Song:\n",
      "\n",
      "\n",
      "We know the game and were gonna play it never never no strangers to you you know the game never never know to <unk> <unk> and and <unk> feeling each other never never hurt <unk> and how we i <unk> <unk> <unk> tell you how never feeling <unk> <unk> tell you understand never <unk> <unk> tell you down never <unk> <unk> tell you down never <unk> <unk> tell goodbye and desert you never <unk> <unk> tell you understand never <unk> <unk> tell goodbye never <unk> <unk> tell you other and hurt you never known each other for im <unk> your <unk> been aching but youre too shy to say\n"
     ]
    },
    {
     "name": "stderr",
     "output_type": "stream",
     "text": [
      " 82%|████████▏ | 82/100 [00:15<00:03,  5.35it/s]"
     ]
    },
    {
     "name": "stdout",
     "output_type": "stream",
     "text": [
      "Generated Song:\n",
      "\n",
      "\n",
      "Never gonna say goodbye never never no strangers to you you know the game never never know i <unk> <unk> and and <unk> feeling each other never get hurt <unk> and other we i a <unk> <unk> tell you how never feeling <unk> <unk> tell you understand never <unk> <unk> tell you down never <unk> <unk> tell you down never <unk> <unk> tell goodbye and desert you never <unk> <unk> tell you understand never <unk> <unk> tell goodbye never <unk> <unk> tell you lie and hurt you never known each other for im <unk> your <unk> been aching but youre too shy to say\n"
     ]
    },
    {
     "name": "stderr",
     "output_type": "stream",
     "text": [
      " 92%|█████████▏| 92/100 [00:17<00:01,  5.28it/s]"
     ]
    },
    {
     "name": "stdout",
     "output_type": "stream",
     "text": [
      "Generated Song:\n",
      "\n",
      "\n",
      "Never gonna run around and desert you never im no strangers to love you know the game never never know i a <unk> and and <unk> thinking each other never get hurt <unk> any other we i a <unk> <unk> tell you how never feeling <unk> <unk> tell you understand never <unk> <unk> tell you down never <unk> <unk> tell you down never <unk> <unk> tell goodbye and desert you never <unk> <unk> tell you understand never <unk> <unk> tell goodbye never <unk> <unk> tell you lie and hurt you never known each other for im <unk> your hearts been aching but youre too shy to say\n"
     ]
    },
    {
     "name": "stderr",
     "output_type": "stream",
     "text": [
      "100%|██████████| 100/100 [00:19<00:00,  5.24it/s]\n"
     ]
    }
   ],
   "source": [
    "my_loss=train(dataloader,model_2,song)"
   ]
  },
  {
   "cell_type": "markdown",
   "metadata": {},
   "source": [
    "Save the model.\n"
   ]
  },
  {
   "cell_type": "code",
   "execution_count": 48,
   "metadata": {},
   "outputs": [],
   "source": [
    "save_path = '2gram.pth'\n",
    "torch.save(model_2.state_dict(), save_path)\n",
    "my_loss_list.append(my_loss)"
   ]
  },
  {
   "cell_type": "markdown",
   "metadata": {},
   "source": [
    "The code provided below shows word embeddings from the created model, reduces their dimensionality to 2D using t-SNE, and then plots them as a scatter plot. Additionally, it annotates the first 20 points in the visualization with their corresponding words. This is used to visualize how similar words cluster together in a lower-dimensional space, revealing the structure of the word embeddings. Embeddings allow the model to represent words in a continuous vector space, capturing semantic relationships and similarities between words.\n"
   ]
  },
  {
   "cell_type": "code",
   "execution_count": 49,
   "metadata": {},
   "outputs": [
    {
     "data": {
      "image/png": "[encoded data removed]",
      "text/plain": [
       "<Figure size 640x480 with 1 Axes>"
      ]
     },
     "metadata": {},
     "output_type": "display_data"
    }
   ],
   "source": [
    "X = model_2.embeddings.weight.cpu().detach().numpy()\n",
    "tsne = TSNE(n_components=2, random_state=42)\n",
    "X_2d = tsne.fit_transform(X)\n",
    "\n",
    "labels = []\n",
    "\n",
    "for j in range(len(X_2d)):\n",
    "    if j < 20:\n",
    "        plt.scatter(X_2d[j, 0], X_2d[j, 1], label=index_to_token[j])\n",
    "        labels.append(index_to_token[j])\n",
    "        # Add words as annotations\n",
    "        plt.annotate(index_to_token[j],\n",
    "                     (X_2d[j, 0], X_2d[j, 1]),\n",
    "                     textcoords=\"offset points\",\n",
    "                     xytext=(0, 10),\n",
    "                     ha='center')\n",
    "    else:\n",
    "        plt.scatter(X_2d[j, 0], X_2d[j, 1])\n",
    "\n",
    "plt.legend(labels, loc='upper left', bbox_to_anchor=(1, 1))\n",
    "plt.show()"
   ]
  },
  {
   "cell_type": "code",
   "execution_count": 50,
   "metadata": {},
   "outputs": [
    {
     "name": "stdout",
     "output_type": "stream",
     "text": [
      "1.26.4\n"
     ]
    }
   ],
   "source": [
    "import numpy as np\n",
    "print(np.__version__)"
   ]
  },
  {
   "cell_type": "markdown",
   "metadata": {},
   "source": [
    "Repeat the process for a context of four.\n"
   ]
  },
  {
   "cell_type": "code",
   "execution_count": 51,
   "metadata": {},
   "outputs": [
    {
     "name": "stderr",
     "output_type": "stream",
     "text": [
      "  2%|▏         | 2/100 [00:00<00:17,  5.67it/s]"
     ]
    },
    {
     "name": "stdout",
     "output_type": "stream",
     "text": [
      "Generated Song:\n",
      "\n",
      "\n",
      "We know the game and were gonna play it never <unk> you you you you you you to <unk> <unk> the you never never you <unk> you you never <unk> never never <unk> you you you im <unk> <unk> you <unk> <unk> you you you <unk> <unk> <unk> you <unk> you <unk> <unk> <unk> <unk> you you you <unk> <unk> <unk> you you you <unk> <unk> you you you you <unk> you make <unk> <unk> you you <unk> <unk> <unk> <unk> you you you <unk> <unk> you you you <unk> <unk> you never <unk> <unk> <unk> <unk> <unk> you <unk> <unk> you <unk> <unk> you <unk> never <unk> <unk>\n"
     ]
    },
    {
     "name": "stderr",
     "output_type": "stream",
     "text": [
      " 11%|█         | 11/100 [00:02<00:17,  5.12it/s]"
     ]
    },
    {
     "name": "stdout",
     "output_type": "stream",
     "text": [
      "Generated Song:\n",
      "\n",
      "\n",
      "Never gonna let you down never <unk> you never <unk> never you never you never never you <unk> never never you <unk> <unk> you never <unk> <unk> you never <unk> you you you never <unk> <unk> never <unk> <unk> you never <unk> <unk> <unk> <unk> <unk> you never never <unk> <unk> give you never never <unk> <unk> tell you down never <unk> <unk> say you never never you never <unk> <unk> make you never never <unk> <unk> say you never <unk> <unk> tell you never <unk> you you never <unk> <unk> <unk> <unk> <unk> <unk> <unk> never you never <unk> <unk> <unk> never <unk> never\n"
     ]
    },
    {
     "name": "stderr",
     "output_type": "stream",
     "text": [
      " 22%|██▏       | 22/100 [00:04<00:14,  5.34it/s]"
     ]
    },
    {
     "name": "stdout",
     "output_type": "stream",
     "text": [
      "Generated Song:\n",
      "\n",
      "\n",
      "Never gonna give you up never <unk> you never to never you never you never never you <unk> never never you <unk> <unk> you you <unk> <unk> you never <unk> you you you never <unk> <unk> never <unk> tell you never <unk> feeling <unk> <unk> give you down never <unk> <unk> give you never never <unk> <unk> let you down never <unk> <unk> say you never never you never <unk> <unk> make you down never <unk> <unk> say goodbye never <unk> <unk> tell you never <unk> you you never known <unk> <unk> for <unk> you <unk> tell you never <unk> <unk> <unk> shy <unk> never\n"
     ]
    },
    {
     "name": "stderr",
     "output_type": "stream",
     "text": [
      " 32%|███▏      | 32/100 [00:05<00:13,  5.21it/s]"
     ]
    },
    {
     "name": "stdout",
     "output_type": "stream",
     "text": [
      "Generated Song:\n",
      "\n",
      "\n",
      "Never gonna say goodbye never known you never to never you know you how never you <unk> never a you <unk> what you you <unk> <unk> you never this you you you and <unk> <unk> im <unk> tell you how im feeling <unk> <unk> give you down never <unk> <unk> give you how never <unk> <unk> let you down never <unk> <unk> say you never never you never <unk> <unk> make you down never <unk> <unk> say goodbye never <unk> <unk> tell you never <unk> a you never known each other for never <unk> <unk> tell been been but youre <unk> shy <unk> say\n"
     ]
    },
    {
     "name": "stderr",
     "output_type": "stream",
     "text": [
      " 42%|████▏     | 42/100 [00:07<00:10,  5.56it/s]"
     ]
    },
    {
     "name": "stdout",
     "output_type": "stream",
     "text": [
      "Generated Song:\n",
      "\n",
      "\n",
      "Never gonna make you cry never known you strangers to never you know whats rules make were <unk> never a you <unk> what you you <unk> <unk> a <unk> this going you you guy <unk> you im <unk> tell you how im feeling <unk> <unk> give you down never <unk> <unk> give you how never <unk> <unk> let you down never <unk> <unk> say you never never you never <unk> <unk> make you down never <unk> <unk> say goodbye never <unk> <unk> tell you never im a you never known each other for so long <unk> tell been been but youre too shy to say\n"
     ]
    },
    {
     "name": "stderr",
     "output_type": "stream",
     "text": [
      " 52%|█████▏    | 52/100 [00:09<00:08,  5.44it/s]"
     ]
    },
    {
     "name": "stdout",
     "output_type": "stream",
     "text": [
      "Generated Song:\n",
      "\n",
      "\n",
      "Never gonna tell a lie and hurt you never known no strangers to never you know whats rules going were <unk> never a full <unk> what you thinking <unk> <unk> a <unk> this from you other guy i you im <unk> tell you how im feeling <unk> <unk> give you understand never <unk> <unk> give you how never <unk> <unk> let you down never <unk> <unk> say you never never you never <unk> <unk> make you understand never <unk> <unk> say goodbye never <unk> <unk> tell you never im a you never known each other for so long <unk> tell been been but youre too shy to say\n"
     ]
    },
    {
     "name": "stderr",
     "output_type": "stream",
     "text": [
      " 62%|██████▏   | 62/100 [00:11<00:07,  5.35it/s]"
     ]
    },
    {
     "name": "stdout",
     "output_type": "stream",
     "text": [
      "Generated Song:\n",
      "\n",
      "\n",
      "Inside we both know whats been going on never are no strangers to love you know the rules going were <unk> never a full commitments what im thinking <unk> <unk> a <unk> this from you other guy i you im <unk> tell you how im feeling <unk> <unk> give you understand never <unk> <unk> give you how never <unk> <unk> let you down never <unk> <unk> say you never never you never <unk> <unk> make you understand never <unk> <unk> say goodbye never <unk> <unk> tell you lie im a you never known each other for so long <unk> tell been aching but youre too shy to say\n"
     ]
    },
    {
     "name": "stderr",
     "output_type": "stream",
     "text": [
      " 71%|███████   | 71/100 [00:13<00:05,  5.25it/s]"
     ]
    },
    {
     "name": "stdout",
     "output_type": "stream",
     "text": [
      "Generated Song:\n",
      "\n",
      "\n",
      "Never gonna let you down never are no strangers to love you know the rules going were <unk> never a full commitments what im thinking <unk> <unk> a <unk> this from any other guy i you im <unk> tell you how im feeling <unk> <unk> give you understand never <unk> <unk> give you how never <unk> <unk> let you down never <unk> <unk> say you never never you never <unk> <unk> make you understand never <unk> <unk> say goodbye never <unk> <unk> tell you lie im a you never known each other for so long <unk> tell been aching but youre too shy to say\n"
     ]
    },
    {
     "name": "stderr",
     "output_type": "stream",
     "text": [
      " 82%|████████▏ | 82/100 [00:14<00:02,  6.07it/s]"
     ]
    },
    {
     "name": "stdout",
     "output_type": "stream",
     "text": [
      "Generated Song:\n",
      "\n",
      "\n",
      "Never gonna let you down never are no strangers to love you know the rules im were <unk> never a full commitments what im thinking <unk> <unk> a <unk> this from any other guy i you im <unk> tell you how im feeling <unk> <unk> give you understand never <unk> <unk> give you how never <unk> <unk> let you down never <unk> <unk> run you never never you never <unk> <unk> make you understand never <unk> <unk> say goodbye never <unk> <unk> tell you lie im a you never known each other for so long <unk> tell been aching but youre too shy to say\n"
     ]
    },
    {
     "name": "stderr",
     "output_type": "stream",
     "text": [
      " 92%|█████████▏| 92/100 [00:16<00:01,  5.91it/s]"
     ]
    },
    {
     "name": "stdout",
     "output_type": "stream",
     "text": [
      "Generated Song:\n",
      "\n",
      "\n",
      "We know the game and were gonna play it never are no strangers to love you know the rules im were <unk> never a full commitments what im thinking <unk> <unk> a <unk> this from any other guy i you im <unk> tell you how im feeling <unk> <unk> give you understand never <unk> <unk> give you up never <unk> <unk> let you down never <unk> <unk> run you never never you never <unk> <unk> make you understand never <unk> <unk> say goodbye never <unk> <unk> tell you lie im a you never known each other for so long <unk> tell been aching but youre too shy to say\n"
     ]
    },
    {
     "name": "stderr",
     "output_type": "stream",
     "text": [
      "100%|██████████| 100/100 [00:18<00:00,  5.55it/s]\n"
     ]
    }
   ],
   "source": [
    "CONTEXT_SIZE=4\n",
    "model_4 = NGramLanguageModeler(len(vocab), EMBEDDING_DIM, CONTEXT_SIZE).to(device)\n",
    "optimizer = optim.SGD(model_4.parameters(), lr=0.01)\n",
    "scheduler = torch.optim.lr_scheduler.StepLR(optimizer, 1.0, gamma=0.1)\n",
    "my_loss=train(dataloader,model_4,song)\n",
    "\n",
    "save_path = '4gram.pth'\n",
    "torch.save(model_4.state_dict(), save_path)\n",
    "\n",
    "my_loss_list.append(my_loss)"
   ]
  },
  {
   "cell_type": "markdown",
   "metadata": {},
   "source": [
    "The code provided below shows word embeddings from the created model, reduces their dimensionality to 2d using t-SNE, and then plots them as a scatter plot. Additionally, it annotates the first 20 points in the visualization with their corresponding words. This is used to visualize how similar words cluster together in a lower-dimensional space, revealing the structure of the word embeddings. Embeddings allow the model to represent words in a continuous vector space, capturing semantic relationships and similarities between words.\n"
   ]
  },
  {
   "cell_type": "code",
   "execution_count": 52,
   "metadata": {},
   "outputs": [
    {
     "data": {
      "image/png": "[encoded data removed]",
      "text/plain": [
       "<Figure size 640x480 with 1 Axes>"
      ]
     },
     "metadata": {},
     "output_type": "display_data"
    }
   ],
   "source": [
    "X = model_4.embeddings.weight.cpu().detach().numpy()\n",
    "tsne = TSNE(n_components=2, random_state=42)\n",
    "X_2d = tsne.fit_transform(X)\n",
    "\n",
    "labels = []\n",
    "\n",
    "for j in range(len(X_2d)):\n",
    "    if j < 20:\n",
    "        plt.scatter(X_2d[j, 0], X_2d[j, 1], label=index_to_token[j])\n",
    "        labels.append(index_to_token[j])\n",
    "        # Add words as annotations\n",
    "        plt.annotate(index_to_token[j],\n",
    "                     (X_2d[j, 0], X_2d[j, 1]),\n",
    "                     textcoords=\"offset points\",\n",
    "                     xytext=(0, 10),\n",
    "                     ha='center')\n",
    "    else:\n",
    "        plt.scatter(X_2d[j, 0], X_2d[j, 1])\n",
    "\n",
    "plt.legend(labels, loc='upper left', bbox_to_anchor=(1, 1))\n",
    "plt.show()"
   ]
  },
  {
   "cell_type": "markdown",
   "metadata": {},
   "source": [
    "Finally, for a context of eight.\n"
   ]
  },
  {
   "cell_type": "code",
   "execution_count": 53,
   "metadata": {},
   "outputs": [
    {
     "name": "stderr",
     "output_type": "stream",
     "text": [
      "  2%|▏         | 2/100 [00:00<00:16,  6.12it/s]"
     ]
    },
    {
     "name": "stdout",
     "output_type": "stream",
     "text": [
      "Generated Song:\n",
      "\n",
      "\n",
      "Never gonna tell a lie and hurt you <unk> <unk> give <unk> <unk> <unk> <unk> <unk> you <unk> <unk> <unk> <unk> <unk> <unk> give give <unk> <unk> <unk> lie <unk> <unk> give <unk> <unk> <unk> you <unk> <unk> <unk> <unk> <unk> <unk> <unk> <unk> <unk> <unk> <unk> <unk> you you <unk> <unk> <unk> <unk> <unk> you <unk> <unk> <unk> <unk> <unk> you <unk> <unk> <unk> <unk> <unk> you <unk> <unk> <unk> <unk> <unk> <unk> <unk> you give <unk> <unk> <unk> <unk> you <unk> <unk> <unk> <unk> you you <unk> <unk> <unk> <unk> lie goodbye <unk> you <unk> <unk> give <unk> <unk> <unk> <unk> <unk> <unk> <unk> <unk> <unk>\n"
     ]
    },
    {
     "name": "stderr",
     "output_type": "stream",
     "text": [
      " 12%|█▏        | 12/100 [00:01<00:13,  6.34it/s]"
     ]
    },
    {
     "name": "stdout",
     "output_type": "stream",
     "text": [
      "Generated Song:\n",
      "\n",
      "\n",
      "Never gonna give you up <unk> give you give to <unk> <unk> <unk> you rules <unk> <unk> <unk> <unk> <unk> you you <unk> im <unk> im give you give tell <unk> give you guy i <unk> <unk> <unk> give you you im <unk> <unk> <unk> give you never never <unk> <unk> give you never never <unk> <unk> give you never never <unk> <unk> give you you never <unk> <unk> <unk> <unk> make you cry never <unk> <unk> give you you never <unk> tell you you never <unk> <unk> <unk> lie give give you so <unk> give <unk> <unk> tell on <unk> <unk> shy to say\n"
     ]
    },
    {
     "name": "stderr",
     "output_type": "stream",
     "text": [
      " 22%|██▏       | 22/100 [00:03<00:12,  6.46it/s]"
     ]
    },
    {
     "name": "stdout",
     "output_type": "stream",
     "text": [
      "Generated Song:\n",
      "\n",
      "\n",
      "Inside we both know whats been going on <unk> play you strangers to so <unk> <unk> the rules strangers to <unk> play <unk> you strangers im im thinking im other other give tell <unk> give you guy i <unk> <unk> <unk> give you cry im feeling <unk> <unk> give you never never <unk> <unk> give you up never <unk> <unk> give you cry never <unk> <unk> run around cry never <unk> <unk> <unk> <unk> make you cry never <unk> <unk> give you cry never <unk> tell a lie im <unk> <unk> <unk> lie strangers other for so long to i <unk> going on we too shy to say\n"
     ]
    },
    {
     "name": "stderr",
     "output_type": "stream",
     "text": [
      " 32%|███▏      | 32/100 [00:05<00:14,  4.73it/s]"
     ]
    },
    {
     "name": "stdout",
     "output_type": "stream",
     "text": [
      "Generated Song:\n",
      "\n",
      "\n",
      "Never gonna let you down <unk> say you strangers to so <unk> <unk> the rules strangers too <unk> play <unk> you strangers im im thinking im other other im tell strangers give you guy i <unk> <unk> <unk> give you lie im feeling <unk> <unk> give you cry never <unk> <unk> give you up never <unk> <unk> run you up never <unk> <unk> run around cry never <unk> <unk> <unk> <unk> make you cry never <unk> <unk> give you up never <unk> tell a lie im <unk> <unk> <unk> lie strangers other for so long shy rules <unk> going on we too shy to say\n"
     ]
    },
    {
     "name": "stderr",
     "output_type": "stream",
     "text": [
      " 42%|████▏     | 42/100 [00:07<00:10,  5.40it/s]"
     ]
    },
    {
     "name": "stdout",
     "output_type": "stream",
     "text": [
      "Generated Song:\n",
      "\n",
      "\n",
      "Never gonna run around and desert you <unk> say you strangers to so <unk> <unk> the rules strangers too <unk> play <unk> the strangers im im thinking to other other for tell strangers give you guy i <unk> <unk> <unk> give you lie im feeling <unk> <unk> give you cry never <unk> <unk> give you up never <unk> <unk> run you up never <unk> <unk> run around up never <unk> <unk> <unk> <unk> make you cry never <unk> <unk> give you up never <unk> tell a lie im <unk> <unk> <unk> lie strangers other for so long shy rules <unk> going we we too shy to say\n"
     ]
    },
    {
     "name": "stderr",
     "output_type": "stream",
     "text": [
      " 52%|█████▏    | 52/100 [00:09<00:08,  5.50it/s]"
     ]
    },
    {
     "name": "stdout",
     "output_type": "stream",
     "text": [
      "Generated Song:\n",
      "\n",
      "\n",
      "Never gonna say goodbye <unk> say you strangers to so <unk> <unk> the rules strangers too we play <unk> the me im im thinking rules other other for tell strangers give you guy i thinking <unk> <unk> give you lie im feeling <unk> <unk> give you cry never <unk> <unk> give you up never <unk> <unk> run you up never <unk> <unk> run around up never <unk> <unk> <unk> <unk> make you cry never <unk> <unk> give you up never <unk> tell a lie im <unk> <unk> <unk> lie strangers other for so long shy rules <unk> going we we too shy to say\n"
     ]
    },
    {
     "name": "stderr",
     "output_type": "stream",
     "text": [
      " 62%|██████▏   | 62/100 [00:11<00:07,  5.31it/s]"
     ]
    },
    {
     "name": "stdout",
     "output_type": "stream",
     "text": [
      "Generated Song:\n",
      "\n",
      "\n",
      "I just wanna tell you how Im feeling <unk> say you strangers to so <unk> <unk> the rules strangers too we play <unk> the me im im thinking rules other other for tell strangers to you guy i thinking <unk> <unk> give you lie im feeling <unk> <unk> give you cry never <unk> <unk> give you up never <unk> <unk> run you up never <unk> <unk> run around up never <unk> <unk> <unk> <unk> make you cry never <unk> <unk> give you up never <unk> tell a lie im <unk> <unk> <unk> lie strangers other for so long shy rules <unk> going we we too shy to say\n"
     ]
    },
    {
     "name": "stderr",
     "output_type": "stream",
     "text": [
      " 72%|███████▏  | 72/100 [00:12<00:04,  6.28it/s]"
     ]
    },
    {
     "name": "stdout",
     "output_type": "stream",
     "text": [
      "Generated Song:\n",
      "\n",
      "\n",
      "Your hearts been aching but youre too shy to say it <unk> say you strangers to so <unk> <unk> the rules strangers too we play <unk> the me im im thinking rules other other for tell strangers to you guy i thinking <unk> <unk> give you lie im feeling <unk> <unk> give you cry never <unk> <unk> give you up never <unk> <unk> run you up never <unk> <unk> run around up never <unk> <unk> <unk> <unk> make you cry never <unk> <unk> give you up never <unk> tell a lie im <unk> <unk> <unk> lie strangers other for so long shy rules <unk> going we we too shy to say\n"
     ]
    },
    {
     "name": "stderr",
     "output_type": "stream",
     "text": [
      " 82%|████████▏ | 82/100 [00:14<00:02,  6.14it/s]"
     ]
    },
    {
     "name": "stdout",
     "output_type": "stream",
     "text": [
      "Generated Song:\n",
      "\n",
      "\n",
      "We are no strangers to love <unk> say you strangers to so <unk> <unk> the rules strangers too we play <unk> the me im im thinking rules other other for tell strangers to you guy i thinking <unk> <unk> give you lie im feeling <unk> <unk> give you cry never <unk> <unk> give you up never <unk> <unk> run you up never <unk> <unk> run around up never <unk> <unk> <unk> <unk> make you cry never <unk> <unk> give you up never <unk> tell a lie im <unk> <unk> <unk> lie strangers other for so long shy rules <unk> going we we too shy to say\n"
     ]
    },
    {
     "name": "stderr",
     "output_type": "stream",
     "text": [
      " 92%|█████████▏| 92/100 [00:16<00:01,  5.00it/s]"
     ]
    },
    {
     "name": "stdout",
     "output_type": "stream",
     "text": [
      "Generated Song:\n",
      "\n",
      "\n",
      "Never gonna let you down <unk> say you strangers to so <unk> <unk> the rules strangers too we play <unk> the me im im thinking rules other other for tell strangers to you guy i thinking <unk> <unk> give you lie im feeling <unk> <unk> give you cry never <unk> <unk> give you up never <unk> <unk> run you up never <unk> <unk> run around up never <unk> <unk> <unk> <unk> make you cry never <unk> <unk> give you up never <unk> tell a lie im <unk> <unk> <unk> lie strangers other for so long shy rules <unk> going we we too shy to say\n"
     ]
    },
    {
     "name": "stderr",
     "output_type": "stream",
     "text": [
      "100%|██████████| 100/100 [00:17<00:00,  5.56it/s]\n"
     ]
    }
   ],
   "source": [
    "CONTEXT_SIZE=8\n",
    "model_8 = NGramLanguageModeler(len(vocab), EMBEDDING_DIM, CONTEXT_SIZE).to(device)\n",
    "optimizer = optim.SGD(model_8.parameters(), lr=0.01)\n",
    "\n",
    "scheduler = torch.optim.lr_scheduler.StepLR(optimizer, 1.0, gamma=0.1)\n",
    "my_loss=train(dataloader,model_8,song)\n",
    "\n",
    "save_path = '8gram.pth'\n",
    "torch.save(model_8.state_dict(), save_path)\n",
    "\n",
    "my_loss_list.append(my_loss)"
   ]
  },
  {
   "cell_type": "markdown",
   "metadata": {},
   "source": [
    "The code provided below shows word embeddings from the created model, reduces their dimensionality to 2D using t-SNE, and then plots them as a scatter plot. Additionally, it annotates the first 20 points in the visualization with their corresponding words. This is used to visualize how similar words cluster together in a lower-dimensional space, revealing the structure of the word embeddings. Embeddings allow the model to represent words in a continuous vector space, capturing semantic relationships and similarities between words.\n"
   ]
  },
  {
   "cell_type": "code",
   "execution_count": 54,
   "metadata": {},
   "outputs": [
    {
     "data": {
      "image/png": "[encoded data removed]",
      "text/plain": [
       "<Figure size 640x480 with 1 Axes>"
      ]
     },
     "metadata": {},
     "output_type": "display_data"
    }
   ],
   "source": [
    "X = model_8.embeddings.weight.cpu().detach().numpy()\n",
    "tsne = TSNE(n_components=2, random_state=42)\n",
    "X_2d = tsne.fit_transform(X)\n",
    "\n",
    "labels = []\n",
    "\n",
    "for j in range(len(X_2d)):\n",
    "    if j < 20:\n",
    "        plt.scatter(X_2d[j, 0], X_2d[j, 1], label=index_to_token[j])\n",
    "        labels.append(index_to_token[j])\n",
    "        # Add words as annotations\n",
    "        plt.annotate(index_to_token[j],\n",
    "                     (X_2d[j, 0], X_2d[j, 1]),\n",
    "                     textcoords=\"offset points\",\n",
    "                     xytext=(0, 10),\n",
    "                     ha='center')\n",
    "    else:\n",
    "        plt.scatter(X_2d[j, 0], X_2d[j, 1])\n",
    "\n",
    "plt.legend(labels, loc='upper left', bbox_to_anchor=(1, 1))\n",
    "plt.show()"
   ]
  },
  {
   "cell_type": "markdown",
   "metadata": {},
   "source": [
    "When considering the plotted loss for each model, a discernible trend emerges: an increase in context size correlates with a reduction in loss. While this specific approach lacks the inclusion of model validation or the utilization of conventional NLP evaluation metrics, the visual evidence substantiates its superior performance. \n"
   ]
  },
  {
   "cell_type": "code",
   "execution_count": 55,
   "metadata": {},
   "outputs": [
    {
     "data": {
      "image/png": "[encoded data removed]",
      "text/plain": [
       "<Figure size 640x480 with 1 Axes>"
      ]
     },
     "metadata": {},
     "output_type": "display_data"
    }
   ],
   "source": [
    "for (my_loss, model_name)in zip(my_loss_list,[\"2-gram\",\"4-gram\",\"8-gram\"]):\n",
    "    plt.plot(my_loss,label=\"Cross-entropy Loss - {}\".format(model_name))\n",
    "    plt.legend()"
   ]
  },
  {
   "cell_type": "markdown",
   "metadata": {},
   "source": [
    "## Perplexity\n",
    "Perplexity is a measurement used to evaluate the effectiveness of language models or probability models. It provides an indication of how well a model predicts a sample of data or the likelihood of an unseen event. Perplexity is commonly used in natural language processing tasks, such as machine translation, speech recognition, and language generation.\n",
    "\n",
    "Perplexity is derived from the concept of cross-entropy loss, which measures the dissimilarity between predicted probabilities and actual probabilities. \n",
    "\n",
    "$$\\text{Cross-Entropy Loss} = -\\sum_{i=1}^{N} y_i \\ln(p_i)$$\n",
    "The cross-entropy loss is calculated by taking the negative sum of the products of the true labels $y_i$ and the logarithm of the predicted probabilities $p_i$ over $N$ classes.\n",
    "\n",
    "Taking the exponential of the mean cross-entropy loss gives us the perplexity value.\n",
    "\n",
    "$$\\text{Perplexity} = e^{\\frac{1}{N} \\text{Cross-Entropy Loss}}$$\n",
    "\n",
    "\n",
    "A lower perplexity value indicates that the model is more confident and accurate in predicting the data. Conversely, a higher perplexity suggests that the model is less certain and less accurate in its predictions.\n",
    "\n",
    "Perplexity can be seen as an estimate of the average number of choices the model has for the next word or event in a sequence. A lower perplexity means that the model is more certain about the next word, while a higher perplexity means that there are more possible choices.\n"
   ]
  },
  {
   "cell_type": "code",
   "execution_count": 56,
   "metadata": {},
   "outputs": [
    {
     "data": {
      "image/png": "[encoded data removed]",
      "text/plain": [
       "<Figure size 640x480 with 1 Axes>"
      ]
     },
     "metadata": {},
     "output_type": "display_data"
    }
   ],
   "source": [
    "for (my_loss, model_name)in zip(my_loss_list,[\"2-gram\",\"4-gram\",\"8-gram\"]):\n",
    "    # Calculate perplexity using the loss\n",
    "    perplexity = np.exp(my_loss)\n",
    "    plt.plot(perplexity,label=\"Perplexity - {}\".format(model_name))\n",
    "    plt.legend()"
   ]
  },
  {
   "cell_type": "markdown",
   "metadata": {},
   "source": [
    "# Exercises\n"
   ]
  },
  {
   "cell_type": "markdown",
   "metadata": {},
   "source": [
    "### Exercise 1 - Source a collection of nursery rhymes and compile them into a single text variable.\n"
   ]
  },
  {
   "cell_type": "code",
   "execution_count": 58,
   "metadata": {},
   "outputs": [],
   "source": [
    "# Write your code here.\n",
    "nursery_rhymes = \"\"\"\n",
    "Little Miss Muffet\n",
    "Sat on a tuffet,\n",
    "Eating her curds and whey;\n",
    "Along came a spider\n",
    "Who sat down beside her\n",
    "And frightened Miss Muffet away.\n",
    "\n",
    "Twinkle, twinkle, little star,\n",
    "How I wonder what you are!\n",
    "Up above the world so high,\n",
    "Like a diamond in the sky.\n",
    "\n",
    "Baa, baa, black sheep,\n",
    "Have you any wool?\n",
    "Yes sir, yes sir,\n",
    "Three bags full.\n",
    "\n",
    "Jack and Jill went up the hill\n",
    "To fetch a pail of water.\n",
    "Jack fell down and broke his crown,\n",
    "And Jill came tumbling after.\n",
    "\n",
    "Hickory dickory dock,\n",
    "The mouse ran up the clock.\n",
    "The clock struck one,\n",
    "The mouse ran down,\n",
    "Hickory dickory dock.\n",
    "\n",
    "Humpty Dumpty sat on a wall,\n",
    "Humpty Dumpty had a great fall.\n",
    "All the king's horses and all the king's men\n",
    "Couldn't put Humpty together again.\n",
    "\n",
    "Mary had a little lamb,\n",
    "Its fleece was white as snow;\n",
    "And everywhere that Mary went,\n",
    "The lamb was sure to go.\n",
    "\n",
    "Old MacDonald had a farm,\n",
    "E-I-E-I-O,\n",
    "And on his farm he had a cow,\n",
    "E-I-E-I-O.\n",
    "\n",
    "Itsy Bitsy Spider climbed up the waterspout.\n",
    "Down came the rain and washed the spider out.\n",
    "Out came the sun and dried up all the rain,\n",
    "And the Itsy Bitsy Spider climbed up the spout again.\n",
    "\n",
    "The wheels on the bus go round and round,\n",
    "Round and round,\n",
    "Round and round.\n",
    "The wheels on the bus go round and round,\n",
    "All through the town.\"\"\""
   ]
  },
  {
   "cell_type": "markdown",
   "metadata": {},
   "source": [
    "<details>\n",
    "    <summary>Click here for Solution</summary>\n",
    "\n",
    "```python\n",
    "nursery_rhymes = \"\"\"\n",
    "Little Miss Muffet\n",
    "Sat on a tuffet,\n",
    "Eating her curds and whey;\n",
    "Along came a spider\n",
    "Who sat down beside her\n",
    "And frightened Miss Muffet away.\n",
    "\n",
    "Twinkle, twinkle, little star,\n",
    "How I wonder what you are!\n",
    "Up above the world so high,\n",
    "Like a diamond in the sky.\n",
    "\n",
    "Baa, baa, black sheep,\n",
    "Have you any wool?\n",
    "Yes sir, yes sir,\n",
    "Three bags full.\n",
    "\n",
    "Jack and Jill went up the hill\n",
    "To fetch a pail of water.\n",
    "Jack fell down and broke his crown,\n",
    "And Jill came tumbling after.\n",
    "\n",
    "Hickory dickory dock,\n",
    "The mouse ran up the clock.\n",
    "The clock struck one,\n",
    "The mouse ran down,\n",
    "Hickory dickory dock.\n",
    "\n",
    "Humpty Dumpty sat on a wall,\n",
    "Humpty Dumpty had a great fall.\n",
    "All the king's horses and all the king's men\n",
    "Couldn't put Humpty together again.\n",
    "\n",
    "Mary had a little lamb,\n",
    "Its fleece was white as snow;\n",
    "And everywhere that Mary went,\n",
    "The lamb was sure to go.\n",
    "\n",
    "Old MacDonald had a farm,\n",
    "E-I-E-I-O,\n",
    "And on his farm he had a cow,\n",
    "E-I-E-I-O.\n",
    "\n",
    "Itsy Bitsy Spider climbed up the waterspout.\n",
    "Down came the rain and washed the spider out.\n",
    "Out came the sun and dried up all the rain,\n",
    "And the Itsy Bitsy Spider climbed up the spout again.\n",
    "\n",
    "The wheels on the bus go round and round,\n",
    "Round and round,\n",
    "Round and round.\n",
    "The wheels on the bus go round and round,\n",
    "All through the town.\n",
    "\n",
    "\"\"\"\n",
    "```\n",
    "\n",
    "</details>\n"
   ]
  },
  {
   "cell_type": "markdown",
   "metadata": {},
   "source": [
    "### Exercise 2 - Preprocess the text data to tokenize and create n-grams.\n"
   ]
  },
  {
   "cell_type": "code",
   "execution_count": 59,
   "metadata": {},
   "outputs": [],
   "source": [
    "# Define the value of N for N-grams (context size)\n",
    "N = 2\n",
    "# Preprocess the text (e.g., nursery rhymes) to tokenize and clean it\n",
    "tokens = preprocess(nursery_rhymes)  # Use the preprocess function to tokenize the text\n",
    "\n",
    "# Generate N-grams using the `genngrams` function\n",
    "ngrams = genngrams(tokens)  \n",
    "\n",
    "# Extract the first context-target pair from the list of N-grams\n",
    "context, target = ngrams[0]  "
   ]
  },
  {
   "cell_type": "markdown",
   "metadata": {},
   "source": [
    "<details>\n",
    "    <summary>Click here for Solution</summary>\n",
    "\n",
    "```python\n",
    "# Define the value of N for N-grams (context size)\n",
    "N = 2  \n",
    "\n",
    "# Preprocess the text (e.g., nursery rhymes) to tokenize and clean it\n",
    "tokens = preprocess(nursery_rhymes)  # Use the preprocess function to tokenize the text\n",
    "\n",
    "# Generate N-grams using the `genngrams` function\n",
    "ngrams = genngrams(tokens)  \n",
    "\n",
    "# Extract the first context-target pair from the list of N-grams\n",
    "context, target = ngrams[0]  \n",
    "```\n",
    "\n",
    "</details>\n"
   ]
  },
  {
   "cell_type": "markdown",
   "metadata": {},
   "source": [
    "### Exercise 3 - Convert Context Words into Embeddings and Pass Them Through a Linear Layer\n"
   ]
  },
  {
   "cell_type": "code",
   "execution_count": 60,
   "metadata": {},
   "outputs": [
    {
     "name": "stdout",
     "output_type": "stream",
     "text": [
      "Output shape: torch.Size([1, 128])\n"
     ]
    }
   ],
   "source": [
    "# Write your code here.\n",
    "# Tokenize text and create vocabulary\n",
    "vocab = tokenizetext(nursery_rhymes)  \n",
    "\n",
    "# Define embedding dimensions and create layers\n",
    "embedding_dim = 20  # Each word will be represented as a 20-dimensional vector\n",
    "linear = nn.Linear(embedding_dim * CONTEXT_SIZE, 128)  \n",
    "\n",
    "# Generate embeddings using the custom embedding function\n",
    "embeddings = genembedding(vocab)  \n",
    "\n",
    "# Convert context words into embeddings\n",
    "my_embeddings = embeddings(torch.tensor(vocab(context)))  \n",
    "\n",
    "# Reshape embeddings to match the input shape required by the linear layer\n",
    "my_embeddings = my_embeddings.reshape(1, -1)  \n",
    "\n",
    "# Pass embeddings through the linear layer\n",
    "output = linear(my_embeddings)  \n",
    "\n",
    "# Print output shape for verification\n",
    "print(\"Output shape:\", output.shape)"
   ]
  },
  {
   "cell_type": "markdown",
   "metadata": {},
   "source": [
    "<details>\n",
    "    <summary>Click here for Solution</summary>\n",
    "\n",
    "```python\n",
    "\n",
    "# Tokenize text and create vocabulary\n",
    "vocab = tokenizetext(nursery_rhymes)  \n",
    "\n",
    "\n",
    "# Define embedding dimensions and create layers\n",
    "embedding_dim = 20  # Each word will be represented as a 20-dimensional vector\n",
    "linear = nn.Linear(embedding_dim * CONTEXT_SIZE, 128)  \n",
    "\n",
    "\n",
    "# Generate embeddings using the custom embedding function\n",
    "embeddings = genembedding(vocab)  \n",
    "\n",
    "\n",
    "# Convert context words into embeddings\n",
    "my_embeddings = embeddings(torch.tensor(vocab(context)))  \n",
    "\n",
    "\n",
    "# Reshape embeddings to match the input shape required by the linear layer\n",
    "my_embeddings = my_embeddings.reshape(1, -1)  \n",
    "\n",
    "\n",
    "# Pass embeddings through the linear layer\n",
    "output = linear(my_embeddings)  \n",
    "\n",
    "\n",
    "# Print output shape for verification\n",
    "print(\"Output shape:\", output.shape)  \n",
    "\n",
    "\n",
    "\n",
    "```\n",
    "\n",
    "</details>\n"
   ]
  },
  {
   "cell_type": "markdown",
   "metadata": {},
   "source": [
    "### Exercise 4 -  Implement Batch Processing with Padding for Language Modeling.\n"
   ]
  },
  {
   "cell_type": "code",
   "execution_count": 61,
   "metadata": {},
   "outputs": [
    {
     "name": "stdout",
     "output_type": "stream",
     "text": [
      "Total tokens (after padding): 240\n"
     ]
    }
   ],
   "source": [
    "# Write your code here.\n",
    "# Define constants for training\n",
    "CONTEXT_SIZE = 3  # The number of words in the context window\n",
    "BATCH_SIZE = 10   # The number of samples per batch\n",
    "EMBEDDING_DIM = 10  # The dimension of the word embeddings\n",
    "\n",
    "# Compute padding to ensure the number of tokens is evenly divisible by the batch size\n",
    "Padding = BATCH_SIZE - len(tokens) % BATCH_SIZE  \n",
    "\n",
    "\n",
    "tokens_pad = tokens + tokens[0:Padding]  \n",
    "\n",
    "\n",
    "# Define device (CPU/GPU) for computation\n",
    "device = torch.device(\"cuda\" if torch.cuda.is_available() else \"cpu\")  \n",
    "\n",
    "\n",
    "# Create DataLoader for batch processing\n",
    "dataloader = DataLoader(\n",
    "    tokens_pad, batch_size=BATCH_SIZE, shuffle=False, collate_fn=collate_batch\n",
    ")  \n",
    "\n",
    "\n",
    "# Print length of total tokens after padding\n",
    "print(f\"Total tokens (after padding): {len(tokens_pad)}\")"
   ]
  },
  {
   "cell_type": "markdown",
   "metadata": {},
   "source": [
    "<details>\n",
    "    <summary>Click here for Solution</summary>\n",
    "\n",
    "```python\n",
    "# Define constants for training\n",
    "CONTEXT_SIZE = 3  # The number of words in the context window\n",
    "BATCH_SIZE = 10   # The number of samples per batch\n",
    "EMBEDDING_DIM = 10  # The dimension of the word embeddings\n",
    "\n",
    "# Compute padding to ensure the number of tokens is evenly divisible by the batch size\n",
    "Padding = BATCH_SIZE - len(tokens) % BATCH_SIZE  \n",
    "\n",
    "\n",
    "tokens_pad = tokens + tokens[0:Padding]  \n",
    "\n",
    "\n",
    "# Define device (CPU/GPU) for computation\n",
    "device = torch.device(\"cuda\" if torch.cuda.is_available() else \"cpu\")  \n",
    "\n",
    "\n",
    "# Create DataLoader for batch processing\n",
    "dataloader = DataLoader(\n",
    "    tokens_pad, batch_size=BATCH_SIZE, shuffle=False, collate_fn=collate_batch\n",
    ")  \n",
    "\n",
    "\n",
    "# Print length of total tokens after padding\n",
    "print(f\"Total tokens (after padding): {len(tokens_pad)}\")\n",
    "\n",
    "\n",
    "```\n",
    "\n",
    "</details>\n"
   ]
  },
  {
   "cell_type": "markdown",
   "metadata": {},
   "source": [
    "### Exercise 5 - Train an N-gram language model using the provided code structure.\n"
   ]
  },
  {
   "cell_type": "code",
   "execution_count": 62,
   "metadata": {
    "scrolled": true
   },
   "outputs": [
    {
     "name": "stderr",
     "output_type": "stream",
     "text": [
      "  2%|▏         | 2/100 [00:00<00:17,  5.61it/s]"
     ]
    },
    {
     "name": "stdout",
     "output_type": "stream",
     "text": [
      "Generated Song:\n",
      "\n",
      "\n",
      " wool so to , like waterspout hill sure great t like so , sure so yes again fetch to down world sun crown sheep wool , like snow sun rain sun the whey on how the t like sure you to all of sun great sure came miss sure sun have humpty go sure up cow down so twinkle wool twinkle all again so ' on , came hill full wool sure yes great t sure came sure whey cow so , so sir so , so like . so like of sun wool so in full wool of wool\n"
     ]
    },
    {
     "name": "stderr",
     "output_type": "stream",
     "text": [
      " 12%|█▏        | 12/100 [00:01<00:14,  6.24it/s]"
     ]
    },
    {
     "name": "stdout",
     "output_type": "stream",
     "text": [
      "Generated Song:\n",
      "\n",
      "\n",
      "Sat on a tuffet, the the the the the the the and the the the the the the the the the the the the the the the the the the the and and the the the the the the the the the the the the the the the the and the the the the the the the the the the the the the the the the the the the the the the the the the the the the and the the the the the the the the the the the the the the the the the the the the the the the the the\n"
     ]
    },
    {
     "name": "stderr",
     "output_type": "stream",
     "text": [
      " 22%|██▏       | 22/100 [00:03<00:11,  6.99it/s]"
     ]
    },
    {
     "name": "stdout",
     "output_type": "stream",
     "text": [
      "Generated Song:\n",
      "\n",
      "\n",
      " the the the the the the the and and the the the the and the the the the the the the and the the and the the and and the the the the the the the the the the the the the the and the and the the the the the the the the and and the the and the and the the the the the the the the the the the the the and the the the the and the the the the the the the the the the the the and the the the the the the the\n"
     ]
    },
    {
     "name": "stderr",
     "output_type": "stream",
     "text": [
      " 32%|███▏      | 32/100 [00:04<00:09,  7.01it/s]"
     ]
    },
    {
     "name": "stdout",
     "output_type": "stream",
     "text": [
      "Generated Song:\n",
      "\n",
      "\n",
      "Hickory dickory dock, the the the the the a the and and the the the the and the up the the the and the and the and and the the and and the the and the the the and up the the the and up and and the and the up and the and and the a and and the the and the and the the the the the the a the and the the the the and the up the the and the the the the the the the the the the the the up and up the and the the the\n"
     ]
    },
    {
     "name": "stderr",
     "output_type": "stream",
     "text": [
      " 42%|████▏     | 42/100 [00:05<00:08,  7.01it/s]"
     ]
    },
    {
     "name": "stdout",
     "output_type": "stream",
     "text": [
      "Generated Song:\n",
      "\n",
      "\n",
      " the the the the the a the and and the the the the came the up the the the a the and the and and the the and and the the and the the the and up the the up and up and and the and the up and the and and the a and up the the up the up the the the the the the a the clock the the the the and the up the the and round the the the and the the the the a the the up and up the clock the clock the\n"
     ]
    },
    {
     "name": "stderr",
     "output_type": "stream",
     "text": [
      " 52%|█████▏    | 52/100 [00:07<00:06,  7.02it/s]"
     ]
    },
    {
     "name": "stdout",
     "output_type": "stream",
     "text": [
      "Generated Song:\n",
      "\n",
      "\n",
      "Round and round. the the the the the a up and and the a round the came the up <unk> the the a the and the and and the and and and the the and the the the and up the the up and up and and the <unk> the up and baa and and the a and up the the up the up the the the the the the a the clock and the the spider and the came the the and round the the the and the the the the dickory the the up ran up the clock the clock the\n"
     ]
    },
    {
     "name": "stderr",
     "output_type": "stream",
     "text": [
      " 62%|██████▏   | 62/100 [00:08<00:05,  7.47it/s]"
     ]
    },
    {
     "name": "stdout",
     "output_type": "stream",
     "text": [
      "Generated Song:\n",
      "\n",
      "\n",
      "And everywhere that Mary went, on the the the a a spider and and the up round the came the up <unk> the the a the and the and and the and and and the the and the the the and up the the rain and up and and bitsy humpty the bus s baa and and the a and up the the yes the yes the the the the the the a the clock and the the spider and clock came the the and round the the the jill the the the hickory dickory the the mouse ran up the clock the clock the\n"
     ]
    },
    {
     "name": "stderr",
     "output_type": "stream",
     "text": [
      " 72%|███████▏  | 72/100 [00:09<00:04,  6.60it/s]"
     ]
    },
    {
     "name": "stdout",
     "output_type": "stream",
     "text": [
      "Generated Song:\n",
      "\n",
      "\n",
      "Jack and Jill went up the hill on the the the a a spider <unk> and the up humpty the came the spider <unk> the the a dickory and frightened and and the and and and the the and the the the and up the the rain and spider and and bitsy humpty the bus s baa and and the you and up on the yes the yes the the jack the jill went a the clock and the a spider <unk> water came the the and round the the the jill went the the hickory dickory the humpty mouse ran up the clock the clock the\n"
     ]
    },
    {
     "name": "stderr",
     "output_type": "stream",
     "text": [
      " 82%|████████▏ | 82/100 [00:11<00:02,  7.47it/s]"
     ]
    },
    {
     "name": "stdout",
     "output_type": "stream",
     "text": [
      "Generated Song:\n",
      "\n",
      "\n",
      "Hickory dickory dock, little miss the the a a spider eating and the spider humpty the came the spider who the the a dickory and frightened miss and the twinkle and and star the and the the the and up the the mouse and spider and and bitsy in the bus s baa and and miss you and up yes the yes the yes the the jack the jill went up the clock and go a pail <unk> water go the the and round the crown and jill went the the hickory dickory the humpty mouse ran up the clock the clock the\n"
     ]
    },
    {
     "name": "stderr",
     "output_type": "stream",
     "text": [
      " 92%|█████████▏| 92/100 [00:12<00:01,  6.73it/s]"
     ]
    },
    {
     "name": "stdout",
     "output_type": "stream",
     "text": [
      "Generated Song:\n",
      "\n",
      "\n",
      "Who sat down beside her little miss muffet the on a tuffet eating her curds dumpty humpty the came the spider who the the a dickory and frightened miss muffet the twinkle and and star the and the what the and up the the mouse and spider like and bitsy in the bus s baa baa and miss you and up yes sir yes sir yes the the jack the jill went up the clock and go a pail of water jack the the and round the crown and jill went the up hickory dickory dock humpty mouse ran up the clock the clock the\n"
     ]
    },
    {
     "name": "stderr",
     "output_type": "stream",
     "text": [
      "100%|██████████| 100/100 [00:13<00:00,  7.27it/s]"
     ]
    },
    {
     "name": "stdout",
     "output_type": "stream",
     "text": [
      "Training started with 127 words in vocabulary.\n",
      "Optimizer: SGD (\n",
      "Parameter Group 0\n",
      "    dampening: 0\n",
      "    differentiable: False\n",
      "    foreach: None\n",
      "    initial_lr: 0.01\n",
      "    lr: 0.01\n",
      "    maximize: False\n",
      "    momentum: 0\n",
      "    nesterov: False\n",
      "    weight_decay: 0\n",
      ")\n",
      "Learning rate scheduler: <torch.optim.lr_scheduler.StepLR object at 0x7ec9ad4c3c80>\n"
     ]
    },
    {
     "name": "stderr",
     "output_type": "stream",
     "text": [
      "\n"
     ]
    }
   ],
   "source": [
    "# Write your code here.\n",
    "# Define context size for N-gram modeling\n",
    "CONTEXT_SIZE = 2  # Number of previous words used as context for predicting the next word\n",
    "\n",
    "# Define the loss function\n",
    "criterion = torch.nn.CrossEntropyLoss()  \n",
    "\n",
    "# Initialize the N-gram language model\n",
    "model3 = NGramLanguageModeler(len(vocab), EMBEDDING_DIM, CONTEXT_SIZE).to(device)  \n",
    "\n",
    "\n",
    "# Define the optimizer (Stochastic Gradient Descent)\n",
    "optimizer = optim.SGD(model3.parameters(), lr=0.01)  \n",
    "\n",
    "# Implement Learning Rate Scheduling\n",
    "scheduler = torch.optim.lr_scheduler.StepLR(optimizer, step_size=1, gamma=0.1)  \n",
    "\n",
    "# Train the model and track loss history\n",
    "loss_history = train(dataloader, model3, nursery_rhymes)  \n",
    "\n",
    "\n",
    "# Output expected behavior\n",
    "print(f\"Training started with {len(vocab)} words in vocabulary.\")\n",
    "print(f\"Optimizer: {optimizer}\")\n",
    "print(f\"Learning rate scheduler: {scheduler}\")"
   ]
  },
  {
   "cell_type": "markdown",
   "metadata": {},
   "source": [
    "<details>\n",
    "    <summary>Click here for Solution</summary>\n",
    "\n",
    "```python\n",
    "# Define context size for N-gram modeling\n",
    "CONTEXT_SIZE = 2  # Number of previous words used as context for predicting the next word\n",
    "\n",
    "# Define the loss function\n",
    "criterion = torch.nn.CrossEntropyLoss()  \n",
    "\n",
    "# Initialize the N-gram language model\n",
    "model3 = NGramLanguageModeler(len(vocab), EMBEDDING_DIM, CONTEXT_SIZE).to(device)  \n",
    "\n",
    "\n",
    "# Define the optimizer (Stochastic Gradient Descent)\n",
    "optimizer = optim.SGD(model3.parameters(), lr=0.01)  \n",
    "\n",
    "# Implement Learning Rate Scheduling\n",
    "scheduler = torch.optim.lr_scheduler.StepLR(optimizer, step_size=1, gamma=0.1)  \n",
    "\n",
    "# Train the model and track loss history\n",
    "loss_history = train(dataloader, model3, nursery_rhymes)  \n",
    "\n",
    "\n",
    "# Output expected behavior\n",
    "print(f\"Training started with {len(vocab)} words in vocabulary.\")\n",
    "print(f\"Optimizer: {optimizer}\")\n",
    "print(f\"Learning rate scheduler: {scheduler}\")\n",
    "```\n",
    "\n",
    "</details>\n"
   ]
  },
  {
   "cell_type": "markdown",
   "metadata": {},
   "source": [
    "### Exercise 6 - After training, use the model to generate a new nursery rhyme and then print it.\n"
   ]
  },
  {
   "cell_type": "code",
   "execution_count": 63,
   "metadata": {},
   "outputs": [
    {
     "name": "stdout",
     "output_type": "stream",
     "text": [
      "Like a diamond in the sky. little miss muffet go on a wall eating her curds dumpty humpty the came the spider who sat the a bitsy and frightened miss muffet go twinkle twinkle and star the and the what the and up the the mouse and spider like and bitsy in the bus s baa baa and miss you any up yes sir yes sir yes the full jack the jill went up the clock and go a pail of water jack fell down and round the crown and jill went tumbling up hickory dickory dock humpty mouse ran up the clock the clock the\n"
     ]
    }
   ],
   "source": [
    "# Write your code here.\n",
    "# Select a random line from the nursery rhymes dataset\n",
    "selected_line = pickrandomline(nursery_rhymes)  \n",
    "\n",
    "# Generate a new rhyme using the trained language model\n",
    "generated_rhyme = write_song(model3, selected_line)  \n",
    "\n",
    "# Print the generated rhyme\n",
    "print(generated_rhyme) "
   ]
  },
  {
   "cell_type": "markdown",
   "metadata": {},
   "source": [
    "---\n"
   ]
  },
  {
   "cell_type": "markdown",
   "metadata": {},
   "source": [
    "# Congratulations! You have completed the lab\n"
   ]
  },
  {
   "cell_type": "markdown",
   "metadata": {},
   "source": [
    "## Authors\n"
   ]
  },
  {
   "cell_type": "markdown",
   "metadata": {},
   "source": [
    "[Joseph Santarcangelo](https://www.linkedin.com/in/joseph-s-50398b136/) has a Ph.D. in Electrical Engineering, his research focused on using machine learning, signal processing, and computer vision to determine how videos impact human cognition. Joseph has been working for IBM since he completed his PhD.\n"
   ]
  },
  {
   "cell_type": "markdown",
   "metadata": {},
   "source": [
    "### Contributor\n",
    "\n",
    "[Roodra Kanwar](https://www.linkedin.com/in/roodrakanwar/) is completing his MS in CS specializing in big data from Simon Fraser University. He has previous experience working with machine learning and as a data engineer.\n"
   ]
  },
  {
   "cell_type": "markdown",
   "metadata": {},
   "source": [
    "```{## Change log}\n"
   ]
  },
  {
   "cell_type": "markdown",
   "metadata": {},
   "source": [
    "```{|Date (YYYY-MM-DD)|Version|Changed By|Change Description||-|-|-|-||2023-09-01|0.1|Joseph|Created Lab Template & Guided Project||2023-09-03|0.1|Joseph|Updated Guided Project|}\n"
   ]
  },
  {
   "cell_type": "markdown",
   "metadata": {},
   "source": [
    "© Copyright IBM Corporation. All rights reserved.\n"
   ]
  }
 ],
 "metadata": {
  "kernelspec": {
   "display_name": "Python 3 (ipykernel)",
   "language": "python",
   "name": "python3"
  },
  "language_info": {
   "codemirror_mode": {
    "name": "ipython",
    "version": 3
   },
   "file_extension": ".py",
   "mimetype": "text/x-python",
   "name": "python",
   "nbconvert_exporter": "python",
   "pygments_lexer": "ipython3",
   "version": "3.12.8"
  },
  "prev_pub_hash": "81020b346126e8268ecd0bbe106c525c2d52941722854700dee67a50af8be4b0"
 },
 "nbformat": 4,
 "nbformat_minor": 4
}
